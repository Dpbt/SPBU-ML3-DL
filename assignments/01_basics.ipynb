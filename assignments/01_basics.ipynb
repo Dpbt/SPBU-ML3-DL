{
 "cells": [
  {
   "cell_type": "markdown",
   "metadata": {},
   "source": [
    "## Основы pytorch"
   ]
  },
  {
   "cell_type": "markdown",
   "metadata": {},
   "source": [
    "Для выполнения ДЗ создайте приватный репозиторий и добавьте `https://github.com/norsage` в collaborators (Settings -> Collaborators -> Add people)"
   ]
  },
  {
   "cell_type": "code",
   "metadata": {
    "ExecuteTime": {
     "end_time": "2024-09-10T22:10:13.302832Z",
     "start_time": "2024-09-10T22:10:09.825627Z"
    }
   },
   "source": [
    "import torch"
   ],
   "outputs": [],
   "execution_count": 1
  },
  {
   "cell_type": "markdown",
   "metadata": {},
   "source": [
    "#### 1. Операции над тензорами (1 балл)"
   ]
  },
  {
   "cell_type": "markdown",
   "metadata": {},
   "source": [
    "##### 1.1 Среднее значение по столбцам"
   ]
  },
  {
   "cell_type": "code",
   "metadata": {
    "ExecuteTime": {
     "end_time": "2024-09-10T22:10:13.382073Z",
     "start_time": "2024-09-10T22:10:13.312837Z"
    }
   },
   "source": [
    "torch.manual_seed(42)\n",
    "x = torch.randint(10, size=(2, 3)).float()\n",
    "x"
   ],
   "outputs": [
    {
     "data": {
      "text/plain": [
       "tensor([[2., 7., 6.],\n",
       "        [4., 6., 5.]])"
      ]
     },
     "execution_count": 2,
     "metadata": {},
     "output_type": "execute_result"
    }
   ],
   "execution_count": 2
  },
  {
   "cell_type": "code",
   "metadata": {
    "ExecuteTime": {
     "end_time": "2024-09-10T22:10:13.481572Z",
     "start_time": "2024-09-10T22:10:13.471094Z"
    }
   },
   "source": [
    "mean_by_row = x.mean(dim=0)\n",
    "assert torch.allclose(\n",
    "    mean_by_row, _expected := torch.tensor([3.0, 6.5, 5.5])\n",
    "), f\"{mean_by_row} != {_expected}\""
   ],
   "outputs": [],
   "execution_count": 3
  },
  {
   "cell_type": "markdown",
   "metadata": {},
   "source": [
    "##### 1.2. Взвешенное среднее\n",
    "В тензоре `w` находятся ненормализованные веса для расчёта взвешенных средних тензора `x` по строкам.\n",
    "\n",
    "Найдите эти взвешенные средние, получая нормализованные веса с помощью функции `torch.softmax` (или метода `.softmax`)"
   ]
  },
  {
   "cell_type": "code",
   "metadata": {
    "ExecuteTime": {
     "end_time": "2024-09-10T22:10:13.947317Z",
     "start_time": "2024-09-10T22:10:13.937656Z"
    }
   },
   "source": [
    "torch.manual_seed(42)\n",
    "x = torch.randint(10, size=(2, 3)).float()\n",
    "w = torch.randint(10, size=(2, 3)).float()\n",
    "print(x)\n",
    "print(w)"
   ],
   "outputs": [
    {
     "name": "stdout",
     "output_type": "stream",
     "text": [
      "tensor([[2., 7., 6.],\n",
      "        [4., 6., 5.]])\n",
      "tensor([[0., 4., 0.],\n",
      "        [3., 8., 4.]])\n"
     ]
    }
   ],
   "execution_count": 4
  },
  {
   "cell_type": "code",
   "metadata": {
    "ExecuteTime": {
     "end_time": "2024-09-10T22:10:13.969718Z",
     "start_time": "2024-09-10T22:10:13.949820Z"
    }
   },
   "source": [
    "w_avg = (x * torch.softmax(w, dim=1)).sum(dim=1)\n",
    "assert torch.allclose(\n",
    "    w_avg, _expected := torch.tensor([6.8940, 5.9690])\n",
    "), f\"{w_avg} != {_expected}\""
   ],
   "outputs": [],
   "execution_count": 5
  },
  {
   "cell_type": "markdown",
   "metadata": {},
   "source": [
    "##### 1.3. Умножение матриц на векторы\n",
    "\n",
    "В тензоре `m` - две матрицы, нужно сделать тензор, в котором i-й элемент - результат умножения матрицы `m[i]` на вектор `x[i]`.\n",
    "\n",
    "Это можно было бы сделать так: `torch.stack([m[i] @ x[i] for i in len(m)])`.\n",
    "\n",
    "Попробуйте найти решение без цикла."
   ]
  },
  {
   "metadata": {
    "ExecuteTime": {
     "end_time": "2024-09-10T22:10:14.011316Z",
     "start_time": "2024-09-10T22:10:14.002342Z"
    }
   },
   "cell_type": "code",
   "source": [
    "torch.manual_seed(42)\n",
    "x = torch.randint(10, size=(2, 3)).float()\n",
    "m = torch.randint(10, size=(2, 3, 3)).float()\n",
    "print(m)\n",
    "print(x)"
   ],
   "outputs": [
    {
     "name": "stdout",
     "output_type": "stream",
     "text": [
      "tensor([[[0., 4., 0.],\n",
      "         [3., 8., 4.],\n",
      "         [0., 4., 1.]],\n",
      "\n",
      "        [[2., 5., 5.],\n",
      "         [7., 6., 9.],\n",
      "         [6., 3., 1.]]])\n",
      "tensor([[2., 7., 6.],\n",
      "        [4., 6., 5.]])\n"
     ]
    }
   ],
   "execution_count": 6
  },
  {
   "cell_type": "code",
   "metadata": {
    "ExecuteTime": {
     "end_time": "2024-09-10T22:10:14.044321Z",
     "start_time": "2024-09-10T22:10:14.034065Z"
    }
   },
   "source": [
    "matmul = torch.bmm(m, x.view(2, 3, 1)).view(2, 3)\n",
    "assert torch.allclose(\n",
    "    matmul, _expected := torch.tensor([[28.0, 86.0, 34.0], [63.0, 109.0, 47.0]])\n",
    "), f\"{matmul} != {_expected}\""
   ],
   "outputs": [],
   "execution_count": 7
  },
  {
   "cell_type": "markdown",
   "metadata": {},
   "source": [
    "##### 1.4. Матрица попарных расстояний\n",
    "\n",
    "Даны две матрицы `x` и `y`, нужно получить матрицу `d`, где `d[i, j]` - евклидово расстояние между векторами `x[i]` и `y[j]`.\n",
    "\n",
    "Подсказка 1: воспользуйтесь broadcasting и добавлением размерностей в исходные тензоры.\n",
    "\n",
    "Подсказка 2: можно не считать евклидово расстояние вручную, есть функция `torch.linalg.norm`\n",
    "\n"
   ]
  },
  {
   "cell_type": "code",
   "metadata": {
    "ExecuteTime": {
     "end_time": "2024-09-10T22:10:14.067206Z",
     "start_time": "2024-09-10T22:10:14.056317Z"
    }
   },
   "source": [
    "torch.manual_seed(42)\n",
    "x = torch.randint(10, size=(2, 3)).float()\n",
    "y = torch.randint(10, size=(3, 3)).float()\n",
    "print(x)\n",
    "print(y)"
   ],
   "outputs": [
    {
     "name": "stdout",
     "output_type": "stream",
     "text": [
      "tensor([[2., 7., 6.],\n",
      "        [4., 6., 5.]])\n",
      "tensor([[0., 4., 0.],\n",
      "        [3., 8., 4.],\n",
      "        [0., 4., 1.]])\n"
     ]
    }
   ],
   "execution_count": 8
  },
  {
   "metadata": {
    "ExecuteTime": {
     "end_time": "2024-09-10T22:10:14.106478Z",
     "start_time": "2024-09-10T22:10:14.099310Z"
    }
   },
   "cell_type": "code",
   "source": [
    "pdist = torch.linalg.norm(x.unsqueeze(1) - y.unsqueeze(0), dim=2)\n",
    "assert torch.allclose(\n",
    "    pdist,\n",
    "    _expected := torch.tensor([[7.0000, 2.4495, 6.1644], [6.7082, 2.4495, 6.0000]]),\n",
    "), f\"{pdist} != {_expected}\""
   ],
   "outputs": [],
   "execution_count": 9
  },
  {
   "metadata": {},
   "cell_type": "markdown",
   "source": [
    "#### 2. Функция Power (1 балл)\n",
    "Используя сложение и умножение, реализуйте возведение в целочисленную степень FloatTensor как функцию autograd (т.е. наследника `torch.autograd.Function`)"
   ]
  },
  {
   "cell_type": "code",
   "metadata": {
    "ExecuteTime": {
     "end_time": "2024-09-10T22:10:14.136590Z",
     "start_time": "2024-09-10T22:10:14.131089Z"
    }
   },
   "source": [
    "class Power(torch.autograd.Function):\n",
    "    @staticmethod\n",
    "    def forward(tensor, p):\n",
    "        return tensor ** p\n",
    "\n",
    "    @staticmethod\n",
    "    def setup_context(ctx, inputs, output):\n",
    "        ctx.first, ctx.second = inputs\n",
    "\n",
    "    @staticmethod\n",
    "    def backward(ctx, grad_output):\n",
    "        tensor, p = ctx.first, ctx.second\n",
    "        grad_tensor = grad_output * p * (tensor ** (p - 1))\n",
    "        return grad_tensor, None"
   ],
   "outputs": [],
   "execution_count": 10
  },
  {
   "cell_type": "code",
   "metadata": {
    "ExecuteTime": {
     "end_time": "2024-09-10T22:10:14.151728Z",
     "start_time": "2024-09-10T22:10:14.144052Z"
    }
   },
   "source": [
    "assert torch.all(Power.apply(torch.tensor([1, 2, 3]), 0) == torch.tensor([1, 1, 1]))\n",
    "assert torch.all(Power.apply(torch.tensor([1, 2, 3]), 2) == torch.tensor([1, 4, 9]))"
   ],
   "outputs": [],
   "execution_count": 11
  },
  {
   "cell_type": "markdown",
   "metadata": {},
   "source": [
    "    #### 3. Многочлен (3 балла)\n",
    "Найдите корень (он один) заданного полинома (очень хорошего!) с точностью до пяти знаков после запятой:\n",
    "1. Используя бинарный поиск https://en.wikipedia.org/wiki/Binary_search_algorithm\n",
    "2. Используя метод Ньютона https://en.wikipedia.org/wiki/Newton%27s_method\n",
    "   \n",
    "   Задаётся начальное приближение вблизи предположительного корня, после чего строится касательная к графику исследуемой функции в точке приближения, для которой находится пересечение с осью абсцисс. Эта точка берётся в качестве следующего приближения. И так далее, пока не будет достигнута необходимая точность.\n",
    "   \n",
    "   (hint: для вычисления производных используйте метод `backward()`)\n",
    "   \n",
    "   $x_{n+1} = x_{n} - \\frac{f(x_n)}{f'(x_n)}$\n",
    "\n",
    "Сравните скорость методов с помощью `%%timeit`, т.е. оцените, какой из них найдёт ответ быстрее"
   ]
  },
  {
   "cell_type": "code",
   "metadata": {
    "ExecuteTime": {
     "end_time": "2024-09-10T22:10:14.165933Z",
     "start_time": "2024-09-10T22:10:14.162605Z"
    }
   },
   "source": [
    "from typing import Callable\n",
    "\n",
    "Polynomial = Callable[[torch.FloatTensor], torch.FloatTensor]\n",
    "\n",
    "\n",
    "def poly(x: torch.FloatTensor) -> torch.FloatTensor:\n",
    "    return x**7 + 5 * x**3 + 17 * x - 9"
   ],
   "outputs": [],
   "execution_count": 12
  },
  {
   "cell_type": "code",
   "metadata": {
    "ExecuteTime": {
     "end_time": "2024-09-10T22:10:14.188929Z",
     "start_time": "2024-09-10T22:10:14.176518Z"
    }
   },
   "source": [
    "torch.set_printoptions(precision=5)\n",
    "\n",
    "def bin_search_find_zero(poly: Polynomial) -> torch.FloatTensor:\n",
    "    \n",
    "    left = torch.tensor(0., dtype=torch.float64)\n",
    "    right = torch.tensor(1., dtype=torch.float64)\n",
    "    epsilon = torch.tensor(1e-5, dtype=torch.float64)\n",
    "    \n",
    "    while right - left > epsilon:\n",
    "        mid = (left + right) / 2\n",
    "        mid_value = poly(mid)\n",
    "        if mid_value * poly(left) < 0:\n",
    "            right = mid\n",
    "        else:\n",
    "            left = mid\n",
    "            \n",
    "    return (left + right) / 2\n",
    "\n",
    "print(bin_search_find_zero(poly))"
   ],
   "outputs": [
    {
     "name": "stdout",
     "output_type": "stream",
     "text": [
      "tensor(0.49362, dtype=torch.float64)\n"
     ]
    }
   ],
   "execution_count": 13
  },
  {
   "cell_type": "code",
   "metadata": {
    "ExecuteTime": {
     "end_time": "2024-09-10T22:10:14.216561Z",
     "start_time": "2024-09-10T22:10:14.210932Z"
    }
   },
   "source": [
    "def newton_find_zero(poly: Polynomial) -> torch.FloatTensor:\n",
    "    \"\"\"Функция для метода Ньютона\"\"\"\n",
    "\n",
    "    # первое приближение (не забываем про то, что понадобится градиент!)\n",
    "    x = torch.tensor(1.0, requires_grad=True, dtype=torch.float64)\n",
    "    x_old = torch.tensor(2.0, dtype=torch.float64)\n",
    "\n",
    "    # останавливаемся, если значение функции достаточно близко к нулю\n",
    "    tol = 10**-5\n",
    "\n",
    "    # значение\n",
    "    val = poly(x)\n",
    "\n",
    "    # цикл обновления\n",
    "    while abs(x - x_old) > tol:\n",
    "        val.backward()\n",
    "        f_dx = x.grad  # производная \n",
    "        x_old = x  # сохраняем старый x\n",
    "        with torch.no_grad():\n",
    "            x = x - val / f_dx  # пересчитываем x\n",
    "        x = x.requires_grad_(True)\n",
    "        val = poly(x)  # вычисляем новое значение\n",
    "        \n",
    "    # еще вроде работает такой вариант\n",
    "    '''\n",
    "    while abs(x - x_old) > tol:\n",
    "        val.backward()\n",
    "        f_dx = x.grad\n",
    "        x_old = x\n",
    "        x = x - val / f_dx\n",
    "        x = x.detach().requires_grad_(True)\n",
    "        val = poly(x)\n",
    "    '''\n",
    "\n",
    "    return x"
   ],
   "outputs": [],
   "execution_count": 14
  },
  {
   "cell_type": "code",
   "metadata": {
    "ExecuteTime": {
     "end_time": "2024-09-10T22:10:14.265157Z",
     "start_time": "2024-09-10T22:10:14.247058Z"
    }
   },
   "source": [
    "x = newton_find_zero(poly)\n",
    "print(x)\n",
    "print(poly(x))"
   ],
   "outputs": [
    {
     "name": "stdout",
     "output_type": "stream",
     "text": [
      "tensor(0.49362, dtype=torch.float64, requires_grad=True)\n",
      "tensor(1.77636e-15, dtype=torch.float64, grad_fn=<SubBackward0>)\n"
     ]
    }
   ],
   "execution_count": 15
  },
  {
   "cell_type": "code",
   "metadata": {
    "ExecuteTime": {
     "end_time": "2024-09-10T22:10:21.321997Z",
     "start_time": "2024-09-10T22:10:14.359989Z"
    }
   },
   "source": [
    "%%timeit\n",
    "x = newton_find_zero(poly)"
   ],
   "outputs": [
    {
     "name": "stdout",
     "output_type": "stream",
     "text": [
      "855 μs ± 19.1 μs per loop (mean ± std. dev. of 7 runs, 1,000 loops each)\n"
     ]
    }
   ],
   "execution_count": 16
  },
  {
   "metadata": {
    "ExecuteTime": {
     "end_time": "2024-09-10T22:10:32.724076Z",
     "start_time": "2024-09-10T22:10:21.411272Z"
    }
   },
   "cell_type": "code",
   "source": [
    "%%timeit\n",
    "y = bin_search_find_zero(poly)"
   ],
   "outputs": [
    {
     "name": "stdout",
     "output_type": "stream",
     "text": [
      "1.39 ms ± 21.2 μs per loop (mean ± std. dev. of 7 runs, 1,000 loops each)\n"
     ]
    }
   ],
   "execution_count": 17
  },
  {
   "metadata": {},
   "cell_type": "markdown",
   "source": "То есть быстрее работает метод Ньютона"
  }
 ],
 "metadata": {
  "kernelspec": {
   "display_name": "a3d",
   "language": "python",
   "name": "python3"
  },
  "language_info": {
   "codemirror_mode": {
    "name": "ipython",
    "version": 3
   },
   "file_extension": ".py",
   "mimetype": "text/x-python",
   "name": "python",
   "nbconvert_exporter": "python",
   "pygments_lexer": "ipython3",
   "version": "3.12.5"
  },
  "orig_nbformat": 4
 },
 "nbformat": 4,
 "nbformat_minor": 2
}
