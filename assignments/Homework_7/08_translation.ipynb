{
  "cells": [
    {
      "cell_type": "code",
      "source": [
        "%%capture\n",
        "!pip install pytorch-lightning"
      ],
      "metadata": {
        "id": "qS3hu-yNm3O9"
      },
      "execution_count": 1,
      "outputs": []
    },
    {
      "cell_type": "code",
      "source": [
        "%%capture\n",
        "!pip install lightning"
      ],
      "metadata": {
        "id": "RsAQJIUgv2xc"
      },
      "execution_count": 2,
      "outputs": []
    },
    {
      "cell_type": "code",
      "source": [
        "%%capture\n",
        "!pip install datasets"
      ],
      "metadata": {
        "id": "A70ZhN17wD1e"
      },
      "execution_count": 3,
      "outputs": []
    },
    {
      "cell_type": "markdown",
      "metadata": {
        "id": "4-G_lnJcmbeS"
      },
      "source": [
        "## T5 трансформер для перевода с немецкого на английский"
      ]
    },
    {
      "cell_type": "markdown",
      "metadata": {
        "id": "cnbAZ85BmbeU"
      },
      "source": [
        "Сегодня вы поработаете над настоящей задачей NLP и попробуете обучить трансформер переводить короткие предложения с английского на немецкий.\n",
        "\n",
        "Токенизацию и блоки трансформера писать не придётся — будем пользоваться библиотекой `transformers`.\n",
        "\n",
        "Наши задачи:\n",
        "- Познакомиться с наиболее популярным методом токенизации текстов — byte pair encoding\n",
        "- Научиться пользоваться токенизатором из `transformers`\n",
        "- Подготовить даннные\n",
        "- Обучить готовую архитектуру T5-small под нашу задачу\n",
        "- Исследовать разные стратегии декодирования с помощью обученной модели"
      ]
    },
    {
      "cell_type": "code",
      "execution_count": 4,
      "metadata": {
        "id": "1Qf3_YdnmbeV"
      },
      "outputs": [],
      "source": [
        "import math\n",
        "from pathlib import Path\n",
        "from typing import cast\n",
        "\n",
        "import lightning as L\n",
        "import torch\n",
        "import torch.nn.functional as F\n",
        "from torch import Tensor, nn\n",
        "from torch.utils.data import DataLoader, Dataset\n",
        "from transformers import T5ForConditionalGeneration, T5Tokenizer\n",
        "\n",
        "from datasets import load_dataset, load_from_disk"
      ]
    },
    {
      "cell_type": "code",
      "execution_count": 5,
      "metadata": {
        "colab": {
          "base_uri": "https://localhost:8080/"
        },
        "id": "NA-qZI9PmbeW",
        "outputId": "cff39a53-056d-4bd4-887e-c8053c039cd8"
      },
      "outputs": [
        {
          "output_type": "execute_result",
          "data": {
            "text/plain": [
              "<torch._C.Generator at 0x7d77ea8d1d70>"
            ]
          },
          "metadata": {},
          "execution_count": 5
        }
      ],
      "source": [
        "torch.manual_seed(42)"
      ]
    },
    {
      "cell_type": "markdown",
      "metadata": {
        "id": "rj-dpbhambeX"
      },
      "source": [
        "#### Готовим данные"
      ]
    },
    {
      "cell_type": "code",
      "execution_count": 6,
      "metadata": {
        "id": "KUrLykSombeX"
      },
      "outputs": [],
      "source": [
        "%%capture\n",
        "train_dataset = load_dataset(\"bentrevett/multi30k\", split=\"train\")\n",
        "test_dataset = load_dataset(\"bentrevett/multi30k\", split=\"test\")"
      ]
    },
    {
      "cell_type": "code",
      "execution_count": 7,
      "metadata": {
        "colab": {
          "base_uri": "https://localhost:8080/"
        },
        "id": "EoACpluGmbeX",
        "outputId": "5f6ea026-20ac-4086-a0ac-fad194017ccf"
      },
      "outputs": [
        {
          "output_type": "execute_result",
          "data": {
            "text/plain": [
              "{'en': 'Two young, White males are outside near many bushes.',\n",
              " 'de': 'Zwei junge weiße Männer sind im Freien in der Nähe vieler Büsche.'}"
            ]
          },
          "metadata": {},
          "execution_count": 7
        }
      ],
      "source": [
        "train_dataset[0]"
      ]
    },
    {
      "cell_type": "code",
      "execution_count": 8,
      "metadata": {
        "colab": {
          "base_uri": "https://localhost:8080/",
          "height": 291
        },
        "id": "7Q-TAtsrmbeY",
        "outputId": "ae944c8a-216e-466d-8f2e-1edf61fa6509"
      },
      "outputs": [
        {
          "output_type": "display_data",
          "data": {
            "text/plain": [
              "<Figure size 1000x300 with 2 Axes>"
            ],
            "image/png": "[encoded data removed]"
          },
          "metadata": {}
        }
      ],
      "source": [
        "import matplotlib.pyplot as plt\n",
        "\n",
        "\n",
        "def length_histogram(dataset, ax, bins=20) -> None:\n",
        "    en_lengths = []\n",
        "    de_lengths = []\n",
        "    for sample in dataset:\n",
        "        en_lengths.append(len(sample[\"en\"].split(\" \")))\n",
        "        de_lengths.append(len(sample[\"de\"].split(\" \")))\n",
        "\n",
        "    ax.hist(en_lengths, alpha=0.5, bins=bins, label=\"en\")\n",
        "    ax.hist(de_lengths, alpha=0.5, bins=bins, label=\"de\")\n",
        "    ax.legend()\n",
        "\n",
        "\n",
        "fig, axes = plt.subplots(1, 2, figsize=(10, 3))\n",
        "length_histogram(train_dataset, axes[0])\n",
        "length_histogram(test_dataset, axes[1])"
      ]
    },
    {
      "cell_type": "markdown",
      "metadata": {
        "id": "zjqpjtkKmbeY"
      },
      "source": [
        "Оставим только сравнительно короткие предложения, чтобы можно было чему-то научиться за короткое время"
      ]
    },
    {
      "cell_type": "code",
      "execution_count": 9,
      "metadata": {
        "colab": {
          "base_uri": "https://localhost:8080/"
        },
        "id": "CntbIH33mbeY",
        "outputId": "33d14429-2f07-4588-b6c6-0b6e4122d270"
      },
      "outputs": [
        {
          "output_type": "stream",
          "name": "stdout",
          "text": [
            "5144 174\n"
          ]
        }
      ],
      "source": [
        "maxlen = 8\n",
        "\n",
        "\n",
        "def filter_dataset(dataset, maxlen: int) -> list[dict[str, str]]:\n",
        "    return [\n",
        "        dataset[i]\n",
        "        for i in range(len(dataset))\n",
        "        if len(dataset[i][\"en\"].split(\" \")) <= maxlen\n",
        "    ]\n",
        "\n",
        "\n",
        "train_filtered = filter_dataset(train_dataset, maxlen)\n",
        "test_filtered = filter_dataset(test_dataset, maxlen)\n",
        "\n",
        "print(len(train_filtered), len(test_filtered))"
      ]
    },
    {
      "cell_type": "markdown",
      "metadata": {
        "id": "pX_8ho_9mbeZ"
      },
      "source": [
        "##### Токенизация: byte-pair encoding"
      ]
    },
    {
      "cell_type": "markdown",
      "metadata": {
        "id": "8ocoar-YmbeZ"
      },
      "source": [
        "Построение:\n",
        "\n",
        "Начинаем со словаря, состоящего из отдельных символов (начальные токены).\n",
        "На каждом шаге:\n",
        "1. Оцениваем частоту всех пар токенов внутри слов, находим самую частую\n",
        "2. Добавляем её в список токенов и в таблицу слияний\n",
        "3. Останавливаемся, когда достигаем максимального размера словаря\n",
        "\n",
        "\n",
        "Применение:\n",
        "\n",
        "1. Разбиваем текст на символы\n",
        "2. Находим первое возможное слияние в таблице и применяем его\n",
        "3. Останавливаемся, когда дальнейшие слияния невозможны\n",
        "\n",
        "<img src=\"https://lena-voita.github.io/resources/lectures/seq2seq/bpe/build_merge_table.gif\" style=\"background:white\" height=\"300\"/>\n",
        "<img src=\"https://lena-voita.github.io/resources/lectures/seq2seq/bpe/bpe_apply.gif\" style=\"background:white\" height=\"300\"/>\n"
      ]
    },
    {
      "cell_type": "markdown",
      "metadata": {
        "id": "Y-9xCd7SmbeZ"
      },
      "source": [
        "Реализаций много, мы будем использовать токенизатор  из библиотеки `transformers`, где помимо самого подготовленного токенизатора (`sentencepiece.SentencePieceProcessor`) много полезных методов для кодирования и декодирования.\n",
        "\n",
        "Добавим при создании новый токен, который будет указывать на начало перевода"
      ]
    },
    {
      "cell_type": "code",
      "execution_count": 10,
      "metadata": {
        "id": "8gK9lhkzmbeZ",
        "colab": {
          "base_uri": "https://localhost:8080/",
          "height": 113,
          "referenced_widgets": [
            "e7b4e02a96734bee85a866a6ef3f374a",
            "81f107a0edbc48308a5de9511d399721",
            "00d3611ff26543c28e29e540f728b442",
            "a726f38a70f54c72b024073e5eb3a455",
            "a6b1afeeb98b4c8f986d80054f61ec4a",
            "5bbaaf1a38184f3a9a668ac2967cf78d",
            "abe940cc493749baa15de22c92b9593e",
            "9913f5ad40d44b86a15cbc12d3fcb0e4",
            "5c7a87c8238b43d998cbb9c6f46e4054",
            "1ea6c29774d04332b325ee7f0380dfe1",
            "667cd35e9e1a47f4b6dbf70e1eb1b2b2",
            "4800634e21c84ea59b2873cc3528ebe9",
            "5e1c36e2a92f44c5987772eb41003ed9",
            "163bf680bff345d896163aa2f741181a",
            "499bcecb56e64a98ad3da8be9ac3d036",
            "543f038511c448af8f97fde21ca36710",
            "681c0615041844aebe49d72546e9cad4",
            "1c2262d505f849a0a7faa9e454e74c4a",
            "7fcb705b0eb348a7a9dc59c8a6b71cc2",
            "c64ca1ccc42f4b79bd1132f378d6ccd0",
            "57b26a8d2019443c9813a3e16a31309d",
            "a8935db0aa00496c957d47a156de2f00",
            "ee1cff536c78477088a6a7f22e90b0d4",
            "bdd2cdc499574484b924966b88e848ee",
            "f037228177694feabea51c58aaaf65c8",
            "c9ba844d23864711a5d7dda69b038124",
            "22f5883ee8934f3b80d5538414aff2e6",
            "05ec246004e249cdbf80faf06c450cd7",
            "df84026e451e472fa5e6445132b612a7",
            "e0e96c2c8aa84f2c8ab7fefc332df208",
            "e4092777c16a40b4a2eaa00002d50c6e",
            "44316533c803471a8a6658d4633978ea",
            "faf58d166f5a4929916ecd5c2dad9c1c"
          ]
        },
        "outputId": "7c2b9352-fd07-4b7c-8f05-f98aebfe9604"
      },
      "outputs": [
        {
          "output_type": "display_data",
          "data": {
            "text/plain": [
              "tokenizer_config.json:   0%|          | 0.00/2.32k [00:00<?, ?B/s]"
            ],
            "application/vnd.jupyter.widget-view+json": {
              "version_major": 2,
              "version_minor": 0,
              "model_id": "e7b4e02a96734bee85a866a6ef3f374a"
            }
          },
          "metadata": {}
        },
        {
          "output_type": "display_data",
          "data": {
            "text/plain": [
              "spiece.model:   0%|          | 0.00/792k [00:00<?, ?B/s]"
            ],
            "application/vnd.jupyter.widget-view+json": {
              "version_major": 2,
              "version_minor": 0,
              "model_id": "4800634e21c84ea59b2873cc3528ebe9"
            }
          },
          "metadata": {}
        },
        {
          "output_type": "display_data",
          "data": {
            "text/plain": [
              "tokenizer.json:   0%|          | 0.00/1.39M [00:00<?, ?B/s]"
            ],
            "application/vnd.jupyter.widget-view+json": {
              "version_major": 2,
              "version_minor": 0,
              "model_id": "ee1cff536c78477088a6a7f22e90b0d4"
            }
          },
          "metadata": {}
        }
      ],
      "source": [
        "tokenizer: T5Tokenizer = T5Tokenizer.from_pretrained(\n",
        "    \"t5-small\", padding_size=\"right\", bos_token=\"</b>\", legacy=False\n",
        ")"
      ]
    },
    {
      "cell_type": "code",
      "execution_count": 11,
      "metadata": {
        "colab": {
          "base_uri": "https://localhost:8080/"
        },
        "id": "K7yL_XHCmbea",
        "outputId": "9ed3636a-3f0d-4f55-bb6f-7d6ce0b08c77"
      },
      "outputs": [
        {
          "output_type": "stream",
          "name": "stdout",
          "text": [
            "Размер словаря:  32101\n"
          ]
        }
      ],
      "source": [
        "print(\"Размер словаря: \", len(tokenizer))"
      ]
    },
    {
      "cell_type": "markdown",
      "metadata": {
        "id": "O0olJBqjmbea"
      },
      "source": [
        "Посмотрим на примеры токенов, в них встречаются и целые слова из разных языков, и числительные, и знаки препинания:"
      ]
    },
    {
      "cell_type": "code",
      "execution_count": 12,
      "metadata": {
        "colab": {
          "base_uri": "https://localhost:8080/"
        },
        "id": "IV1m_OpWmbea",
        "outputId": "4a4bd8ed-dc60-42ae-ae2d-ee78842e199e"
      },
      "outputs": [
        {
          "output_type": "execute_result",
          "data": {
            "text/plain": [
              "[('▁Entscheidung', 10798),\n",
              " ('▁perioada', 4584),\n",
              " ('205', 23201),\n",
              " ('▁versuchen', 21609),\n",
              " ('für', 7465),\n",
              " ('▁urmare', 10483),\n",
              " ('object', 30536),\n",
              " ('<extra_id_9>', 32090),\n",
              " ('▁aminti', 21507),\n",
              " ('▁Again', 7204)]"
            ]
          },
          "metadata": {},
          "execution_count": 12
        }
      ],
      "source": [
        "import random\n",
        "\n",
        "random.choices(list(tokenizer.get_vocab().items()), k=10)"
      ]
    },
    {
      "cell_type": "markdown",
      "metadata": {
        "id": "zDKLh-vOmbea"
      },
      "source": [
        "Токенизатор в работе: кодирование и декодирование предложений на немецком и английском:"
      ]
    },
    {
      "cell_type": "code",
      "execution_count": 13,
      "metadata": {
        "colab": {
          "base_uri": "https://localhost:8080/"
        },
        "id": "3_ZmfUHumbea",
        "outputId": "3144453a-91df-43ba-a4e0-0da2dbd186ae"
      },
      "outputs": [
        {
          "output_type": "stream",
          "name": "stdout",
          "text": [
            "[11280, 16815, 7838, 15, 16282, 436, 256, 8671, 35, 16, 74, 13271, 2221, 49, 21162, 3992, 5, 1]\n",
            "Zwei junge weiße Männer sind im Freien in der Nähe vieler Büsche.</s>\n",
            "[2759, 1021, 6, 1945, 5069, 7, 33, 1067, 1084, 186, 3, 30271, 5, 1]\n",
            "Two young, White males are outside near many bushes.</s>\n"
          ]
        }
      ],
      "source": [
        "encoded_german = tokenizer.encode(train_dataset[0][\"de\"])\n",
        "encoded_english = tokenizer.encode(train_dataset[0][\"en\"])\n",
        "print(encoded_german)\n",
        "print(tokenizer.decode(encoded_german))\n",
        "print(encoded_english)\n",
        "print(tokenizer.decode(encoded_english))"
      ]
    },
    {
      "cell_type": "markdown",
      "metadata": {
        "id": "tgzDv_ydmbeb"
      },
      "source": [
        "Об упаковке в батчи можно больше не беспокоиться — токенизатор умеет обрабатывать сразу пачку примеров"
      ]
    },
    {
      "cell_type": "code",
      "execution_count": 14,
      "metadata": {
        "colab": {
          "base_uri": "https://localhost:8080/"
        },
        "id": "2KVanz-Gmbeb",
        "outputId": "71789ddc-ea62-4fe4-ea03-88296c61a4d6"
      },
      "outputs": [
        {
          "output_type": "stream",
          "name": "stdout",
          "text": [
            "torch.Size([4, 19])\n",
            "dict_keys(['input_ids', 'attention_mask'])\n"
          ]
        }
      ],
      "source": [
        "batch = [train_dataset[i][\"en\"] for i in range(4)]\n",
        "\n",
        "encoded_batch = tokenizer.batch_encode_plus(\n",
        "    batch, padding=\"longest\", return_tensors=\"pt\"\n",
        ")\n",
        "print(encoded_batch[\"input_ids\"].shape)\n",
        "print(encoded_batch.keys())"
      ]
    },
    {
      "cell_type": "markdown",
      "metadata": {
        "id": "ZwJ9kFr5mbeb"
      },
      "source": [
        "Возвращается два значения: `input_ids` — это наши токены, а `attention_mask` — это тензор, равный по размеру батчу токенов, где на месте `pad_token` стоят нули, в остальных позициях — единицы. Это нам понадобится потом."
      ]
    },
    {
      "cell_type": "markdown",
      "metadata": {
        "id": "e7c4HuPHmbeb"
      },
      "source": [
        "А ещё можно кодировать сразу входные и выходные данные:"
      ]
    },
    {
      "cell_type": "code",
      "execution_count": 15,
      "metadata": {
        "colab": {
          "base_uri": "https://localhost:8080/"
        },
        "id": "EKamOPcEmbeb",
        "outputId": "1766a8d2-2817-4fc0-815b-e5eaab60b9dd"
      },
      "outputs": [
        {
          "output_type": "stream",
          "name": "stdout",
          "text": [
            "dict_keys(['input_ids', 'attention_mask', 'labels'])\n"
          ]
        }
      ],
      "source": [
        "inputs = [train_dataset[i][\"en\"] + tokenizer.bos_token for i in range(4)]\n",
        "targets = [train_dataset[i][\"de\"] for i in range(4)]\n",
        "\n",
        "encoded_batch = tokenizer(\n",
        "    inputs, text_target=targets, padding=\"longest\", return_tensors=\"pt\"\n",
        ")\n",
        "print(encoded_batch.keys())"
      ]
    },
    {
      "cell_type": "markdown",
      "metadata": {
        "id": "uL0tbU1embeb"
      },
      "source": [
        "Используем это в `collate_fn` для сборки батчей:"
      ]
    },
    {
      "cell_type": "code",
      "execution_count": 16,
      "metadata": {
        "id": "IDuT1go-mbec"
      },
      "outputs": [],
      "source": [
        "def collate_fn(\n",
        "    tokenizer: T5Tokenizer, batch: list[tuple[str, str]]\n",
        ") -> tuple[Tensor, Tensor]:\n",
        "    prompt = tokenizer.bos_token\n",
        "    inputs, targets = zip(*[(pair[\"de\"], prompt + pair[\"en\"]) for pair in batch])\n",
        "    encoded_batch = tokenizer(\n",
        "        inputs, text_target=targets, padding=\"longest\", return_tensors=\"pt\"\n",
        "    )\n",
        "    return encoded_batch"
      ]
    },
    {
      "cell_type": "code",
      "execution_count": 17,
      "metadata": {
        "colab": {
          "base_uri": "https://localhost:8080/"
        },
        "id": "3VH5dNmqmbec",
        "outputId": "cc1636ae-6de1-46b9-fe15-ca1545e1968b"
      },
      "outputs": [
        {
          "output_type": "stream",
          "name": "stdout",
          "text": [
            "dict_keys(['input_ids', 'attention_mask', 'labels'])\n"
          ]
        }
      ],
      "source": [
        "batch = [train_dataset[i] for i in range(4)]\n",
        "encoded_batch = collate_fn(tokenizer, batch)\n",
        "print(encoded_batch.keys())"
      ]
    },
    {
      "cell_type": "code",
      "execution_count": 18,
      "metadata": {
        "colab": {
          "base_uri": "https://localhost:8080/"
        },
        "id": "RnnLDaLWmbec",
        "outputId": "20ce0f51-c736-47b2-d105-4ee82ed9b8d6"
      },
      "outputs": [
        {
          "output_type": "stream",
          "name": "stdout",
          "text": [
            "torch.Size([4, 22])\n",
            "torch.Size([4, 22])\n",
            "torch.Size([4, 20])\n"
          ]
        }
      ],
      "source": [
        "print(encoded_batch[\"input_ids\"].shape)\n",
        "print(encoded_batch[\"attention_mask\"].shape)\n",
        "print(encoded_batch[\"labels\"].shape)"
      ]
    },
    {
      "cell_type": "markdown",
      "metadata": {
        "id": "D7MLN_PEmbec"
      },
      "source": [
        "Всё готово для получения минибатчей из датасетов:"
      ]
    },
    {
      "cell_type": "code",
      "execution_count": 19,
      "metadata": {
        "id": "z_Bi0Amcmbec"
      },
      "outputs": [],
      "source": [
        "train_loader = DataLoader(\n",
        "    train_filtered,\n",
        "    batch_size=32,\n",
        "    shuffle=True,\n",
        "    collate_fn=lambda batch: collate_fn(tokenizer, batch),\n",
        ")\n",
        "test_loader = DataLoader(\n",
        "    test_filtered,\n",
        "    batch_size=32,\n",
        "    shuffle=False,\n",
        "    collate_fn=lambda batch: collate_fn(tokenizer, batch),\n",
        ")"
      ]
    },
    {
      "cell_type": "markdown",
      "metadata": {
        "id": "YtZ0ddS8mbec"
      },
      "source": [
        "#### Задание 1 (3 балла). DataModule\n",
        "\n",
        "Реализуйте подкласс `lightning.LightningDataModule` для работы с обучающим и тестовым датасетами"
      ]
    },
    {
      "cell_type": "code",
      "source": [
        "from lightning.pytorch.utilities.types import EVAL_DATALOADERS, TRAIN_DATALOADERS\n",
        "\n",
        "\n",
        "class Multi30kDataset(L.LightningDataModule):\n",
        "    def __init__(self, maxlen: int = 0, batch_size: int = 32) -> None:\n",
        "        super().__init__()\n",
        "        self.maxlen = maxlen\n",
        "        self.batch_size = batch_size\n",
        "        self.tokenizer = T5Tokenizer.from_pretrained(\"t5-small\", padding_size=\"right\", bos_token=\"</b>\", legacy=False)\n",
        "\n",
        "    def setup(self, stage: str = None):\n",
        "        self.train_dataset = self.filter_dataset(load_dataset(\"bentrevett/multi30k\", split=\"train\"))\n",
        "        self.test_dataset = self.filter_dataset(load_dataset(\"bentrevett/multi30k\", split=\"test\"))\n",
        "\n",
        "    def filter_dataset(self, dataset) -> list[dict[str, str]]:\n",
        "        maxlen = self.maxlen\n",
        "        return [\n",
        "            dataset[i]\n",
        "            for i in range(len(dataset))\n",
        "            if len(dataset[i][\"en\"].split(\" \")) <= maxlen\n",
        "        ]\n",
        "\n",
        "    def collate_fn(self, batch: list[tuple[str, str]]) -> tuple[Tensor, Tensor]:\n",
        "        prompt = self.tokenizer.bos_token\n",
        "        inputs, targets = zip(*[(pair[\"de\"], prompt + pair[\"en\"]) for pair in batch])\n",
        "        encoded_batch = self.tokenizer(\n",
        "            inputs, text_target=targets, padding=\"longest\", return_tensors=\"pt\"\n",
        "        )\n",
        "        return encoded_batch\n",
        "\n",
        "    def train_dataloader(self) -> TRAIN_DATALOADERS:\n",
        "        return DataLoader(\n",
        "            self.train_dataset,\n",
        "            batch_size=self.batch_size,\n",
        "            shuffle=True,\n",
        "            collate_fn=self.collate_fn,\n",
        "        )\n",
        "\n",
        "    def val_dataloader(self) -> EVAL_DATALOADERS:\n",
        "        return DataLoader(\n",
        "            self.test_dataset,\n",
        "            batch_size=self.batch_size,\n",
        "            shuffle=False,\n",
        "            collate_fn=self.collate_fn,\n",
        "        )\n",
        "\n",
        "    def test_dataloader(self) -> EVAL_DATALOADERS:\n",
        "        return self.val_dataloader()"
      ],
      "metadata": {
        "id": "nCM2fdtR6RBi"
      },
      "execution_count": 20,
      "outputs": []
    },
    {
      "cell_type": "code",
      "source": [
        "multi30k = Multi30kDataset(maxlen=8, batch_size=12)"
      ],
      "metadata": {
        "id": "LqhQSu577_l5"
      },
      "execution_count": 21,
      "outputs": []
    },
    {
      "cell_type": "markdown",
      "metadata": {
        "id": "752hmSOpmbed"
      },
      "source": [
        "#### Задание 2 (6 баллов). Обучение T5"
      ]
    },
    {
      "cell_type": "markdown",
      "metadata": {
        "id": "awxAMc5Ombed"
      },
      "source": [
        "paper: https://arxiv.org/abs/1910.10683"
      ]
    },
    {
      "cell_type": "markdown",
      "metadata": {
        "id": "v7J1SVa9mbed"
      },
      "source": [
        "Обучите `t5-small` на наших данных, длительность обучения — на ваше усмотрение. В [документации](https://huggingface.co/docs/transformers/model_doc/t5) вы найдёте примеры использования, которые помогут вам разобраться в интерфейсе модели."
      ]
    },
    {
      "cell_type": "code",
      "execution_count": 22,
      "metadata": {
        "id": "xE_uWxOkmbed",
        "colab": {
          "base_uri": "https://localhost:8080/",
          "height": 113,
          "referenced_widgets": [
            "723bddaa64f0473cad7108ee581369ec",
            "dd7d0465351c4d16b0a5aff5fddc270a",
            "be4cf81bff3c471a990a45273aa09ae9",
            "a367310b717742c79d890593524b90c2",
            "bb1c8ba3e72c43fa9ed171924b068141",
            "5fadbcb0a4db427ba37e932a81c6c12e",
            "e413c04fdab64976a7aedf3a2e7dfff7",
            "8bbe8176781a4100992d8bed02e8ba84",
            "201a35d10ffd4860ae966dd14b37d9fe",
            "a953544f0202454b8ecf654000b18a58",
            "3ffbdf103ed54f22b588b9b2be45a2a9",
            "a99f2259be7c4d8288d66904b2503131",
            "4af630eabdee4166ab85d9deaa2bc638",
            "93f8e3cb86bc4ba1a60e79acea31f372",
            "7ca32bbf11564c658682b63f2a3635ce",
            "e7c2fb8692894951a9f3493b8b392553",
            "aaafa710368c46d6887402766fe63664",
            "58f69a752895478b936d09c03b455aa8",
            "2db41b8b8c02481c95c8c67b47d1bab4",
            "6ca0b9562da44ab08ef15a83d71f0826",
            "497754af75ff4e19aeb573ecf40e72f6",
            "bd54732dff6b4499b8a315a83ec4befb",
            "0116875ed21d46079a2523066d876373",
            "0c9e041bd0784625b385eb9513c02295",
            "b91f85250963415c93670e2e057f755f",
            "a85d70304a7643a6b05a6e7aae336ceb",
            "2819702c414d42849de2e5a87cf3d950",
            "6f5e681915624c4c969111984f81b328",
            "969937e3c7ce42d2b14cc3f0fb27761b",
            "ddb3d25ab11c4618922921f442efe016",
            "7b970073e34b46f59a0530e9cc989569",
            "980d4149c7ed4b3a87e24e0519b2c4c9",
            "4f113995ec494cba951979ba35edc427"
          ]
        },
        "outputId": "53f9955d-2c56-4625-cfde-a12562206557"
      },
      "outputs": [
        {
          "output_type": "display_data",
          "data": {
            "text/plain": [
              "config.json:   0%|          | 0.00/1.21k [00:00<?, ?B/s]"
            ],
            "application/vnd.jupyter.widget-view+json": {
              "version_major": 2,
              "version_minor": 0,
              "model_id": "723bddaa64f0473cad7108ee581369ec"
            }
          },
          "metadata": {}
        },
        {
          "output_type": "display_data",
          "data": {
            "text/plain": [
              "model.safetensors:   0%|          | 0.00/242M [00:00<?, ?B/s]"
            ],
            "application/vnd.jupyter.widget-view+json": {
              "version_major": 2,
              "version_minor": 0,
              "model_id": "a99f2259be7c4d8288d66904b2503131"
            }
          },
          "metadata": {}
        },
        {
          "output_type": "display_data",
          "data": {
            "text/plain": [
              "generation_config.json:   0%|          | 0.00/147 [00:00<?, ?B/s]"
            ],
            "application/vnd.jupyter.widget-view+json": {
              "version_major": 2,
              "version_minor": 0,
              "model_id": "0116875ed21d46079a2523066d876373"
            }
          },
          "metadata": {}
        }
      ],
      "source": [
        "t5 = T5ForConditionalGeneration.from_pretrained(\"t5-small\")"
      ]
    },
    {
      "cell_type": "markdown",
      "metadata": {
        "id": "fvu8j73Smbed"
      },
      "source": [
        "Обернём в `LightningModule`"
      ]
    },
    {
      "cell_type": "code",
      "source": [
        "import lightning as L\n",
        "from lightning.pytorch.utilities.types import STEP_OUTPUT, OptimizerLRScheduler\n",
        "from transformers import T5ForConditionalGeneration, T5Tokenizer\n",
        "from torch.optim import AdamW\n",
        "\n",
        "class Seq2Seq(L.LightningModule):\n",
        "    def __init__(\n",
        "        self,\n",
        "        model: nn.Module,\n",
        "        tokenizer: T5Tokenizer,\n",
        "        lr: float = 0.01,\n",
        "    ) -> None:\n",
        "        super().__init__()\n",
        "        self.model = model\n",
        "        self.tokenizer = tokenizer\n",
        "        self.lr = lr\n",
        "\n",
        "    def training_step(self, batch: dict[str, torch.Tensor], batch_idx: int) -> STEP_OUTPUT:\n",
        "        # outputs = self.model(**batch)\n",
        "        outputs = self.model(input_ids=batch[\"input_ids\"],\n",
        "                             attention_mask=batch[\"attention_mask\"],\n",
        "                             labels=batch[\"labels\"])\n",
        "        loss = outputs.loss\n",
        "        self.log(\"train_loss\", loss, on_step=False, on_epoch=True, prog_bar=True)\n",
        "        return loss\n",
        "\n",
        "    def configure_optimizers(self) -> OptimizerLRScheduler:\n",
        "        return AdamW(self.model.parameters(), lr=self.lr)"
      ],
      "metadata": {
        "id": "xu0gSbyG9b20"
      },
      "execution_count": 24,
      "outputs": []
    },
    {
      "cell_type": "code",
      "source": [
        "from lightning.pytorch.loggers import CSVLogger\n",
        "\n",
        "trainer = L.Trainer(\n",
        "    accelerator=\"auto\", max_epochs=50, limit_train_batches=10, logger=CSVLogger(\"logs\")\n",
        ")\n",
        "\n",
        "seq2seq = Seq2Seq(t5, multi30k.tokenizer, lr=0.001)\n",
        "\n",
        "trainer.fit(model=seq2seq, datamodule=multi30k)"
      ],
      "metadata": {
        "colab": {
          "base_uri": "https://localhost:8080/",
          "height": 659,
          "referenced_widgets": [
            "65395a2feaa74b0a87cb71df6cc70465",
            "ca895d8592724d169fe9d69f38a69edf",
            "8591f079cadd4e71b7b4bfd2bb7640c7",
            "d7f2dfdb0f9f445183ea583ea8ef37c7",
            "df1a7a77c8ad4d4dbbf8b7f4e5c27ade",
            "6403205f852443d98927d0f4afe1a0bb",
            "3cbfcd3a32004c43b71e551c2faecaec",
            "1b3dda0b325240aba11f2fa28a428336",
            "a424bfc9b65843d29b530797b3a5675c",
            "075a1b93fad5484d9c42ab3708b6b753",
            "4d5724f2c291462aa477694a5b0861f6"
          ]
        },
        "id": "VDD2gGT5R1x6",
        "outputId": "7fcbab33-35ab-4130-ec68-f4830dba3b3c"
      },
      "execution_count": 26,
      "outputs": [
        {
          "output_type": "stream",
          "name": "stderr",
          "text": [
            "INFO: GPU available: True (cuda), used: True\n",
            "INFO:lightning.pytorch.utilities.rank_zero:GPU available: True (cuda), used: True\n",
            "INFO: TPU available: False, using: 0 TPU cores\n",
            "INFO:lightning.pytorch.utilities.rank_zero:TPU available: False, using: 0 TPU cores\n",
            "INFO: HPU available: False, using: 0 HPUs\n",
            "INFO:lightning.pytorch.utilities.rank_zero:HPU available: False, using: 0 HPUs\n",
            "/usr/local/lib/python3.10/dist-packages/lightning/pytorch/trainer/configuration_validator.py:68: You passed in a `val_dataloader` but have no `validation_step`. Skipping val loop.\n",
            "INFO: LOCAL_RANK: 0 - CUDA_VISIBLE_DEVICES: [0]\n",
            "INFO:lightning.pytorch.accelerators.cuda:LOCAL_RANK: 0 - CUDA_VISIBLE_DEVICES: [0]\n",
            "INFO: \n",
            "  | Name  | Type                       | Params | Mode\n",
            "------------------------------------------------------------\n",
            "0 | model | T5ForConditionalGeneration | 60.5 M | eval\n",
            "------------------------------------------------------------\n",
            "60.5 M    Trainable params\n",
            "0         Non-trainable params\n",
            "60.5 M    Total params\n",
            "242.026   Total estimated model params size (MB)\n",
            "0         Modules in train mode\n",
            "277       Modules in eval mode\n",
            "INFO:lightning.pytorch.callbacks.model_summary:\n",
            "  | Name  | Type                       | Params | Mode\n",
            "------------------------------------------------------------\n",
            "0 | model | T5ForConditionalGeneration | 60.5 M | eval\n",
            "------------------------------------------------------------\n",
            "60.5 M    Trainable params\n",
            "0         Non-trainable params\n",
            "60.5 M    Total params\n",
            "242.026   Total estimated model params size (MB)\n",
            "0         Modules in train mode\n",
            "277       Modules in eval mode\n",
            "/usr/local/lib/python3.10/dist-packages/lightning/pytorch/loops/fit_loop.py:298: The number of training batches (10) is smaller than the logging interval Trainer(log_every_n_steps=50). Set a lower value for log_every_n_steps if you want to see logs for the training epoch.\n"
          ]
        },
        {
          "output_type": "display_data",
          "data": {
            "text/plain": [
              "Training: |          | 0/? [00:00<?, ?it/s]"
            ],
            "application/vnd.jupyter.widget-view+json": {
              "version_major": 2,
              "version_minor": 0,
              "model_id": "65395a2feaa74b0a87cb71df6cc70465"
            }
          },
          "metadata": {}
        },
        {
          "output_type": "stream",
          "name": "stderr",
          "text": [
            "INFO: `Trainer.fit` stopped: `max_epochs=50` reached.\n",
            "INFO:lightning.pytorch.utilities.rank_zero:`Trainer.fit` stopped: `max_epochs=50` reached.\n"
          ]
        }
      ]
    },
    {
      "cell_type": "code",
      "source": [
        "import pandas as pd\n",
        "import matplotlib.pyplot as plt\n",
        "\n",
        "log_df = pd.read_csv('logs/lightning_logs/version_0/metrics.csv')\n",
        "\n",
        "epoch_data = log_df[log_df['train_loss'].notna()].groupby('epoch')['train_loss'].mean().reset_index()\n",
        "\n",
        "plt.figure(figsize=(10, 6))\n",
        "plt.plot(epoch_data['epoch'], epoch_data['train_loss'], marker='o')\n",
        "plt.title('Training Loss per Epoch')\n",
        "plt.xlabel('Epoch')\n",
        "plt.ylabel('Train Loss')\n",
        "plt.grid(True)\n",
        "\n",
        "plt.show()"
      ],
      "metadata": {
        "colab": {
          "base_uri": "https://localhost:8080/",
          "height": 564
        },
        "id": "qnyy51DPR_CC",
        "outputId": "3cd2c798-d8b1-45e7-d490-c5f328d50e05"
      },
      "execution_count": 27,
      "outputs": [
        {
          "output_type": "display_data",
          "data": {
            "text/plain": [
              "<Figure size 1000x600 with 1 Axes>"
            ],
            "image/png": "[encoded data removed]"
          },
          "metadata": {}
        }
      ]
    },
    {
      "cell_type": "markdown",
      "metadata": {
        "id": "hef9pFyVmbei"
      },
      "source": [
        "#### Задание 3 (3 балла). Генерация перевода\n",
        "\n",
        "Сгенерируйте перевод для одного батча из тестового датасета (используйте метод `t5.generate()`), используя разные стратегии декодирования:\n",
        "- *greedy decoding*\n",
        "- *multinomial sampling*\n",
        "- *beam-search multinomial sampling*\n",
        "\n",
        "Эти стратегии (а также другие стратегии декодирования) можно задавать через `transformers.GenerationConfig`, который можно передать в метод `.generate()` нашей модели.\n",
        "Выберите параметры, которые, на ваш взгляд, работают лучше всего."
      ]
    },
    {
      "cell_type": "code",
      "execution_count": 28,
      "metadata": {
        "id": "sAqcnanymbei"
      },
      "outputs": [],
      "source": [
        "from transformers import GenerationConfig\n",
        "\n",
        "# пример конфигурации\n",
        "gen_conf = GenerationConfig(\n",
        "    min_length=10,\n",
        "    max_new_tokens=20,\n",
        "    num_beams=4,\n",
        "    do_sample=True,\n",
        "    temperature=1.0,\n",
        "    top_p=0.9,\n",
        ")"
      ]
    },
    {
      "cell_type": "code",
      "execution_count": 29,
      "metadata": {
        "id": "OKk885mAmbei"
      },
      "outputs": [],
      "source": [
        "batch = next(iter(multi30k.test_dataloader()))\n",
        "preds = t5.generate(batch[\"input_ids\"], generation_config=gen_conf)\n",
        "\n",
        "# декодируем входы, правильный и сгенерированный перевод с помощью токенизатора и выводим\n",
        "# print(\"Input: \", multi30k.tokenizer.decode(batch[\"input_ids\"][0], skip_special_tokens=True))\n",
        "# print(\"Target: \", multi30k.tokenizer.decode(batch[\"labels\"][0], skip_special_tokens=True))\n",
        "# print(\"Prediction: \", multi30k.tokenizer.decode(preds[0], skip_special_tokens=True))"
      ]
    },
    {
      "cell_type": "code",
      "source": [
        "import torch\n",
        "from transformers import GenerationConfig\n",
        "\n",
        "batch = next(iter(multi30k.test_dataloader()))\n",
        "\n",
        "# greedy decoding\n",
        "greedy_config = GenerationConfig(\n",
        "    max_new_tokens=20,\n",
        "    num_beams=1,\n",
        "    do_sample=False\n",
        ")\n",
        "\n",
        "greedy_preds = t5.generate(batch[\"input_ids\"], generation_config=greedy_config)\n",
        "\n",
        "# multinomial sampling\n",
        "sampling_config = GenerationConfig(\n",
        "    max_new_tokens=20,\n",
        "    num_beams=1,\n",
        "    do_sample=True,\n",
        "    top_k=50,\n",
        "    temperature=0.7\n",
        ")\n",
        "\n",
        "sampling_preds = t5.generate(batch[\"input_ids\"], generation_config=sampling_config)\n",
        "\n",
        "# beam-search multinomial sampling\n",
        "beam_sampling_config = GenerationConfig(\n",
        "    max_new_tokens=20,\n",
        "    num_beams=5,\n",
        "    do_sample=True,\n",
        "    top_k=50,\n",
        "    temperature=0.7\n",
        ")\n",
        "\n",
        "beam_sampling_preds = t5.generate(batch[\"input_ids\"], generation_config=beam_sampling_config)\n",
        "\n",
        "# my own methods\n",
        "\n",
        "my_config = GenerationConfig(\n",
        "    num_beams=5,\n",
        "    max_length=30,\n",
        "    early_stopping=True,\n",
        "    temperature=0.8,\n",
        "    top_k=50,\n",
        "    do_sample=True,\n",
        "    repetition_penalty=1.2\n",
        ")\n",
        "\n",
        "my_preds = t5.generate(batch[\"input_ids\"], generation_config=my_config)\n",
        "\n",
        "\n",
        "def decode_print(inputs, targets, predictions, method_name):\n",
        "    print(f\"\\n{method_name}:\", end='\\n\\n')\n",
        "    for i in range(len(inputs)):\n",
        "        input_text = multi30k.tokenizer.decode(inputs[i], skip_special_tokens=True)\n",
        "        target_text = multi30k.tokenizer.decode(targets[i], skip_special_tokens=True)\n",
        "        pred_text = multi30k.tokenizer.decode(predictions[i], skip_special_tokens=True)\n",
        "\n",
        "        print(f\"Input: {input_text}\")\n",
        "        print(f\"Target: {target_text}\")\n",
        "        print(f\"Prediction: {pred_text}\")\n",
        "        print(\"-\" * 50)\n",
        "\n",
        "decode_print(batch[\"input_ids\"], batch[\"labels\"], greedy_preds, \"greedy decoding\")\n",
        "decode_print(batch[\"input_ids\"], batch[\"labels\"], sampling_preds, \"multinomial sampling\")\n",
        "decode_print(batch[\"input_ids\"], batch[\"labels\"], beam_sampling_preds, \"beam-search multinomial sampling\")\n",
        "decode_print(batch[\"input_ids\"], batch[\"labels\"], my_preds, \"my configuration\")"
      ],
      "metadata": {
        "colab": {
          "base_uri": "https://localhost:8080/"
        },
        "id": "3M5tcmafLS7W",
        "outputId": "bad46913-6040-4a20-949f-548594e0d9fb"
      },
      "execution_count": 31,
      "outputs": [
        {
          "output_type": "stream",
          "name": "stdout",
          "text": [
            "\n",
            "greedy decoding:\n",
            "\n",
            "Input: Leute Reparieren das Dach eines Hauses.\n",
            "Target: People are fixing the roof of a house.\n",
            "Prediction: People are preparing a roof of a house.\n",
            "--------------------------------------------------\n",
            "Input: Ein Typ arbeitet an einem Gebäude.\n",
            "Target: A guy works on a building.\n",
            "Prediction: A guy is working on a building.\n",
            "--------------------------------------------------\n",
            "Input: Drei Leute sitzen in einer Höhle.\n",
            "Target: Three people sit in a cave.\n",
            "Prediction: Three people are sitting in a huddle.\n",
            "--------------------------------------------------\n",
            "Input: Leute, die vor einem Gebäude stehen.\n",
            "Target: People standing outside of a building.\n",
            "Prediction: People standing outside a building.\n",
            "--------------------------------------------------\n",
            "Input: Ein Mann schneidet ste von Bäumen.\n",
            "Target: A man cutting branches of trees.\n",
            "Prediction: A man is cutting trees.\n",
            "--------------------------------------------------\n",
            "Input: Frauen, die traditionelle Kleidung tragen, spielen das Leben Einheimischer nach.\n",
            "Target: Women, wearing traditional clothing, are reenacting native life.\n",
            "Prediction: Women wearing traditional clothing playing the home.\n",
            "--------------------------------------------------\n",
            "Input: Ein Kind planscht im Wasser.\n",
            "Target: A child is splashing in the water\n",
            "Prediction: A child is splashing in the water.\n",
            "--------------------------------------------------\n",
            "Input: Eine schöne Frau spielt auf einer Harfe.\n",
            "Target: A pretty woman plays a harpsichord.\n",
            "Prediction: A beautiful woman plays on a harp.\n",
            "--------------------------------------------------\n",
            "Input: Die junge Dame sieht auf die Pizza.\n",
            "Target: The young lady is looking at the pizza.\n",
            "Prediction: The young lady is looking at pizza.\n",
            "--------------------------------------------------\n",
            "Input: Leute sitzen in einem Zug.\n",
            "Target: People sit inside a train.\n",
            "Prediction: People sitting in a train.\n",
            "--------------------------------------------------\n",
            "Input: Ein kleines Kind kocht mit einer anderen Person.\n",
            "Target: A toddler is cooking with another person.\n",
            "Prediction: A small child cooking with another person.\n",
            "--------------------------------------------------\n",
            "Input: Ein Mann bereitet am Herd Essen zu.\n",
            "Target: A man cooking food on the stove.\n",
            "Prediction: A man is preparing food at home.\n",
            "--------------------------------------------------\n",
            "\n",
            "multinomial sampling:\n",
            "\n",
            "Input: Leute Reparieren das Dach eines Hauses.\n",
            "Target: People are fixing the roof of a house.\n",
            "Prediction: People are fixing a roof of a house.\n",
            "--------------------------------------------------\n",
            "Input: Ein Typ arbeitet an einem Gebäude.\n",
            "Target: A guy works on a building.\n",
            "Prediction: A guy is working at a building.\n",
            "--------------------------------------------------\n",
            "Input: Drei Leute sitzen in einer Höhle.\n",
            "Target: Three people sit in a cave.\n",
            "Prediction: Three people sitting in a huddle.\n",
            "--------------------------------------------------\n",
            "Input: Leute, die vor einem Gebäude stehen.\n",
            "Target: People standing outside of a building.\n",
            "Prediction: People standing outside a building.\n",
            "--------------------------------------------------\n",
            "Input: Ein Mann schneidet ste von Bäumen.\n",
            "Target: A man cutting branches of trees.\n",
            "Prediction: A man schneidet tree branches.\n",
            "--------------------------------------------------\n",
            "Input: Frauen, die traditionelle Kleidung tragen, spielen das Leben Einheimischer nach.\n",
            "Target: Women, wearing traditional clothing, are reenacting native life.\n",
            "Prediction: Female, dressed in tradition, play the home country.\n",
            "--------------------------------------------------\n",
            "Input: Ein Kind planscht im Wasser.\n",
            "Target: A child is splashing in the water\n",
            "Prediction: A child splashes in the water.\n",
            "--------------------------------------------------\n",
            "Input: Eine schöne Frau spielt auf einer Harfe.\n",
            "Target: A pretty woman plays a harpsichord.\n",
            "Prediction: A beautiful woman plays on a harp.\n",
            "--------------------------------------------------\n",
            "Input: Die junge Dame sieht auf die Pizza.\n",
            "Target: The young lady is looking at the pizza.\n",
            "Prediction: The young lady is looking at pizza.\n",
            "--------------------------------------------------\n",
            "Input: Leute sitzen in einem Zug.\n",
            "Target: People sit inside a train.\n",
            "Prediction: People sitting in a train.\n",
            "--------------------------------------------------\n",
            "Input: Ein kleines Kind kocht mit einer anderen Person.\n",
            "Target: A toddler is cooking with another person.\n",
            "Prediction: The young child cooks with another person.\n",
            "--------------------------------------------------\n",
            "Input: Ein Mann bereitet am Herd Essen zu.\n",
            "Target: A man cooking food on the stove.\n",
            "Prediction: A man preparing food at the herd.\n",
            "--------------------------------------------------\n",
            "\n",
            "beam-search multinomial sampling:\n",
            "\n",
            "Input: Leute Reparieren das Dach eines Hauses.\n",
            "Target: People are fixing the roof of a house.\n",
            "Prediction: People are preparing a roof of a house.\n",
            "--------------------------------------------------\n",
            "Input: Ein Typ arbeitet an einem Gebäude.\n",
            "Target: A guy works on a building.\n",
            "Prediction: A guy is working on a building.\n",
            "--------------------------------------------------\n",
            "Input: Drei Leute sitzen in einer Höhle.\n",
            "Target: Three people sit in a cave.\n",
            "Prediction: Three people are sitting in a huddle.\n",
            "--------------------------------------------------\n",
            "Input: Leute, die vor einem Gebäude stehen.\n",
            "Target: People standing outside of a building.\n",
            "Prediction: People standing outside a building.\n",
            "--------------------------------------------------\n",
            "Input: Ein Mann schneidet ste von Bäumen.\n",
            "Target: A man cutting branches of trees.\n",
            "Prediction: A man is cutting tree branches.\n",
            "--------------------------------------------------\n",
            "Input: Frauen, die traditionelle Kleidung tragen, spielen das Leben Einheimischer nach.\n",
            "Target: Women, wearing traditional clothing, are reenacting native life.\n",
            "Prediction: Women wearing traditional clothing playing home.\n",
            "--------------------------------------------------\n",
            "Input: Ein Kind planscht im Wasser.\n",
            "Target: A child is splashing in the water\n",
            "Prediction: A child is splashing in the water.\n",
            "--------------------------------------------------\n",
            "Input: Eine schöne Frau spielt auf einer Harfe.\n",
            "Target: A pretty woman plays a harpsichord.\n",
            "Prediction: A beautiful woman plays on a harp.\n",
            "--------------------------------------------------\n",
            "Input: Die junge Dame sieht auf die Pizza.\n",
            "Target: The young lady is looking at the pizza.\n",
            "Prediction: The young lady is looking at pizza.\n",
            "--------------------------------------------------\n",
            "Input: Leute sitzen in einem Zug.\n",
            "Target: People sit inside a train.\n",
            "Prediction: People sitting in a train.\n",
            "--------------------------------------------------\n",
            "Input: Ein kleines Kind kocht mit einer anderen Person.\n",
            "Target: A toddler is cooking with another person.\n",
            "Prediction: A small child cooking with another person.\n",
            "--------------------------------------------------\n",
            "Input: Ein Mann bereitet am Herd Essen zu.\n",
            "Target: A man cooking food on the stove.\n",
            "Prediction: A man is preparing food at home.\n",
            "--------------------------------------------------\n",
            "\n",
            "my configuration:\n",
            "\n",
            "Input: Leute Reparieren das Dach eines Hauses.\n",
            "Target: People are fixing the roof of a house.\n",
            "Prediction: People are preparing a roof of a house.\n",
            "--------------------------------------------------\n",
            "Input: Ein Typ arbeitet an einem Gebäude.\n",
            "Target: A guy works on a building.\n",
            "Prediction: A guy is working on a building.\n",
            "--------------------------------------------------\n",
            "Input: Drei Leute sitzen in einer Höhle.\n",
            "Target: Three people sit in a cave.\n",
            "Prediction: Three people are sitting in a huddle.\n",
            "--------------------------------------------------\n",
            "Input: Leute, die vor einem Gebäude stehen.\n",
            "Target: People standing outside of a building.\n",
            "Prediction: People standing outside a building.\n",
            "--------------------------------------------------\n",
            "Input: Ein Mann schneidet ste von Bäumen.\n",
            "Target: A man cutting branches of trees.\n",
            "Prediction: A man is cutting tree branches.\n",
            "--------------------------------------------------\n",
            "Input: Frauen, die traditionelle Kleidung tragen, spielen das Leben Einheimischer nach.\n",
            "Target: Women, wearing traditional clothing, are reenacting native life.\n",
            "Prediction: Women wearing traditional clothing are playing home.\n",
            "--------------------------------------------------\n",
            "Input: Ein Kind planscht im Wasser.\n",
            "Target: A child is splashing in the water\n",
            "Prediction: A child splashes in the water.\n",
            "--------------------------------------------------\n",
            "Input: Eine schöne Frau spielt auf einer Harfe.\n",
            "Target: A pretty woman plays a harpsichord.\n",
            "Prediction: A beautiful woman plays on a harp.\n",
            "--------------------------------------------------\n",
            "Input: Die junge Dame sieht auf die Pizza.\n",
            "Target: The young lady is looking at the pizza.\n",
            "Prediction: The young lady is looking at pizza.\n",
            "--------------------------------------------------\n",
            "Input: Leute sitzen in einem Zug.\n",
            "Target: People sit inside a train.\n",
            "Prediction: People sitting in a train.\n",
            "--------------------------------------------------\n",
            "Input: Ein kleines Kind kocht mit einer anderen Person.\n",
            "Target: A toddler is cooking with another person.\n",
            "Prediction: A small child cooking with another person.\n",
            "--------------------------------------------------\n",
            "Input: Ein Mann bereitet am Herd Essen zu.\n",
            "Target: A man cooking food on the stove.\n",
            "Prediction: A man is preparing food at home.\n",
            "--------------------------------------------------\n"
          ]
        }
      ]
    }
  ],
  "metadata": {
    "kernelspec": {
      "display_name": "Python 3",
      "name": "python3"
    },
    "language_info": {
      "codemirror_mode": {
        "name": "ipython",
        "version": 3
      },
      "file_extension": ".py",
      "mimetype": "text/x-python",
      "name": "python",
      "nbconvert_exporter": "python",
      "pygments_lexer": "ipython3",
      "version": "3.12.5"
    },
    "colab": {
      "provenance": [],
      "gpuType": "T4"
    },
    "accelerator": "GPU",
    "widgets": {
      "application/vnd.jupyter.widget-state+json": {
        "e7b4e02a96734bee85a866a6ef3f374a": {
          "model_module": "@jupyter-widgets/controls",
          "model_name": "HBoxModel",
          "model_module_version": "1.5.0",
          "state": {
            "_dom_classes": [],
            "_model_module": "@jupyter-widgets/controls",
            "_model_module_version": "1.5.0",
            "_model_name": "HBoxModel",
            "_view_count": null,
            "_view_module": "@jupyter-widgets/controls",
            "_view_module_version": "1.5.0",
            "_view_name": "HBoxView",
            "box_style": "",
            "children": [
              "IPY_MODEL_81f107a0edbc48308a5de9511d399721",
              "IPY_MODEL_00d3611ff26543c28e29e540f728b442",
              "IPY_MODEL_a726f38a70f54c72b024073e5eb3a455"
            ],
            "layout": "IPY_MODEL_a6b1afeeb98b4c8f986d80054f61ec4a"
          }
        },
        "81f107a0edbc48308a5de9511d399721": {
          "model_module": "@jupyter-widgets/controls",
          "model_name": "HTMLModel",
          "model_module_version": "1.5.0",
          "state": {
            "_dom_classes": [],
            "_model_module": "@jupyter-widgets/controls",
            "_model_module_version": "1.5.0",
            "_model_name": "HTMLModel",
            "_view_count": null,
            "_view_module": "@jupyter-widgets/controls",
            "_view_module_version": "1.5.0",
            "_view_name": "HTMLView",
            "description": "",
            "description_tooltip": null,
            "layout": "IPY_MODEL_5bbaaf1a38184f3a9a668ac2967cf78d",
            "placeholder": "​",
            "style": "IPY_MODEL_abe940cc493749baa15de22c92b9593e",
            "value": "tokenizer_config.json: 100%"
          }
        },
        "00d3611ff26543c28e29e540f728b442": {
          "model_module": "@jupyter-widgets/controls",
          "model_name": "FloatProgressModel",
          "model_module_version": "1.5.0",
          "state": {
            "_dom_classes": [],
            "_model_module": "@jupyter-widgets/controls",
            "_model_module_version": "1.5.0",
            "_model_name": "FloatProgressModel",
            "_view_count": null,
            "_view_module": "@jupyter-widgets/controls",
            "_view_module_version": "1.5.0",
            "_view_name": "ProgressView",
            "bar_style": "success",
            "description": "",
            "description_tooltip": null,
            "layout": "IPY_MODEL_9913f5ad40d44b86a15cbc12d3fcb0e4",
            "max": 2324,
            "min": 0,
            "orientation": "horizontal",
            "style": "IPY_MODEL_5c7a87c8238b43d998cbb9c6f46e4054",
            "value": 2324
          }
        },
        "a726f38a70f54c72b024073e5eb3a455": {
          "model_module": "@jupyter-widgets/controls",
          "model_name": "HTMLModel",
          "model_module_version": "1.5.0",
          "state": {
            "_dom_classes": [],
            "_model_module": "@jupyter-widgets/controls",
            "_model_module_version": "1.5.0",
            "_model_name": "HTMLModel",
            "_view_count": null,
            "_view_module": "@jupyter-widgets/controls",
            "_view_module_version": "1.5.0",
            "_view_name": "HTMLView",
            "description": "",
            "description_tooltip": null,
            "layout": "IPY_MODEL_1ea6c29774d04332b325ee7f0380dfe1",
            "placeholder": "​",
            "style": "IPY_MODEL_667cd35e9e1a47f4b6dbf70e1eb1b2b2",
            "value": " 2.32k/2.32k [00:00&lt;00:00, 45.9kB/s]"
          }
        },
        "a6b1afeeb98b4c8f986d80054f61ec4a": {
          "model_module": "@jupyter-widgets/base",
          "model_name": "LayoutModel",
          "model_module_version": "1.2.0",
          "state": {
            "_model_module": "@jupyter-widgets/base",
            "_model_module_version": "1.2.0",
            "_model_name": "LayoutModel",
            "_view_count": null,
            "_view_module": "@jupyter-widgets/base",
            "_view_module_version": "1.2.0",
            "_view_name": "LayoutView",
            "align_content": null,
            "align_items": null,
            "align_self": null,
            "border": null,
            "bottom": null,
            "display": null,
            "flex": null,
            "flex_flow": null,
            "grid_area": null,
            "grid_auto_columns": null,
            "grid_auto_flow": null,
            "grid_auto_rows": null,
            "grid_column": null,
            "grid_gap": null,
            "grid_row": null,
            "grid_template_areas": null,
            "grid_template_columns": null,
            "grid_template_rows": null,
            "height": null,
            "justify_content": null,
            "justify_items": null,
            "left": null,
            "margin": null,
            "max_height": null,
            "max_width": null,
            "min_height": null,
            "min_width": null,
            "object_fit": null,
            "object_position": null,
            "order": null,
            "overflow": null,
            "overflow_x": null,
            "overflow_y": null,
            "padding": null,
            "right": null,
            "top": null,
            "visibility": null,
            "width": null
          }
        },
        "5bbaaf1a38184f3a9a668ac2967cf78d": {
          "model_module": "@jupyter-widgets/base",
          "model_name": "LayoutModel",
          "model_module_version": "1.2.0",
          "state": {
            "_model_module": "@jupyter-widgets/base",
            "_model_module_version": "1.2.0",
            "_model_name": "LayoutModel",
            "_view_count": null,
            "_view_module": "@jupyter-widgets/base",
            "_view_module_version": "1.2.0",
            "_view_name": "LayoutView",
            "align_content": null,
            "align_items": null,
            "align_self": null,
            "border": null,
            "bottom": null,
            "display": null,
            "flex": null,
            "flex_flow": null,
            "grid_area": null,
            "grid_auto_columns": null,
            "grid_auto_flow": null,
            "grid_auto_rows": null,
            "grid_column": null,
            "grid_gap": null,
            "grid_row": null,
            "grid_template_areas": null,
            "grid_template_columns": null,
            "grid_template_rows": null,
            "height": null,
            "justify_content": null,
            "justify_items": null,
            "left": null,
            "margin": null,
            "max_height": null,
            "max_width": null,
            "min_height": null,
            "min_width": null,
            "object_fit": null,
            "object_position": null,
            "order": null,
            "overflow": null,
            "overflow_x": null,
            "overflow_y": null,
            "padding": null,
            "right": null,
            "top": null,
            "visibility": null,
            "width": null
          }
        },
        "abe940cc493749baa15de22c92b9593e": {
          "model_module": "@jupyter-widgets/controls",
          "model_name": "DescriptionStyleModel",
          "model_module_version": "1.5.0",
          "state": {
            "_model_module": "@jupyter-widgets/controls",
            "_model_module_version": "1.5.0",
            "_model_name": "DescriptionStyleModel",
            "_view_count": null,
            "_view_module": "@jupyter-widgets/base",
            "_view_module_version": "1.2.0",
            "_view_name": "StyleView",
            "description_width": ""
          }
        },
        "9913f5ad40d44b86a15cbc12d3fcb0e4": {
          "model_module": "@jupyter-widgets/base",
          "model_name": "LayoutModel",
          "model_module_version": "1.2.0",
          "state": {
            "_model_module": "@jupyter-widgets/base",
            "_model_module_version": "1.2.0",
            "_model_name": "LayoutModel",
            "_view_count": null,
            "_view_module": "@jupyter-widgets/base",
            "_view_module_version": "1.2.0",
            "_view_name": "LayoutView",
            "align_content": null,
            "align_items": null,
            "align_self": null,
            "border": null,
            "bottom": null,
            "display": null,
            "flex": null,
            "flex_flow": null,
            "grid_area": null,
            "grid_auto_columns": null,
            "grid_auto_flow": null,
            "grid_auto_rows": null,
            "grid_column": null,
            "grid_gap": null,
            "grid_row": null,
            "grid_template_areas": null,
            "grid_template_columns": null,
            "grid_template_rows": null,
            "height": null,
            "justify_content": null,
            "justify_items": null,
            "left": null,
            "margin": null,
            "max_height": null,
            "max_width": null,
            "min_height": null,
            "min_width": null,
            "object_fit": null,
            "object_position": null,
            "order": null,
            "overflow": null,
            "overflow_x": null,
            "overflow_y": null,
            "padding": null,
            "right": null,
            "top": null,
            "visibility": null,
            "width": null
          }
        },
        "5c7a87c8238b43d998cbb9c6f46e4054": {
          "model_module": "@jupyter-widgets/controls",
          "model_name": "ProgressStyleModel",
          "model_module_version": "1.5.0",
          "state": {
            "_model_module": "@jupyter-widgets/controls",
            "_model_module_version": "1.5.0",
            "_model_name": "ProgressStyleModel",
            "_view_count": null,
            "_view_module": "@jupyter-widgets/base",
            "_view_module_version": "1.2.0",
            "_view_name": "StyleView",
            "bar_color": null,
            "description_width": ""
          }
        },
        "1ea6c29774d04332b325ee7f0380dfe1": {
          "model_module": "@jupyter-widgets/base",
          "model_name": "LayoutModel",
          "model_module_version": "1.2.0",
          "state": {
            "_model_module": "@jupyter-widgets/base",
            "_model_module_version": "1.2.0",
            "_model_name": "LayoutModel",
            "_view_count": null,
            "_view_module": "@jupyter-widgets/base",
            "_view_module_version": "1.2.0",
            "_view_name": "LayoutView",
            "align_content": null,
            "align_items": null,
            "align_self": null,
            "border": null,
            "bottom": null,
            "display": null,
            "flex": null,
            "flex_flow": null,
            "grid_area": null,
            "grid_auto_columns": null,
            "grid_auto_flow": null,
            "grid_auto_rows": null,
            "grid_column": null,
            "grid_gap": null,
            "grid_row": null,
            "grid_template_areas": null,
            "grid_template_columns": null,
            "grid_template_rows": null,
            "height": null,
            "justify_content": null,
            "justify_items": null,
            "left": null,
            "margin": null,
            "max_height": null,
            "max_width": null,
            "min_height": null,
            "min_width": null,
            "object_fit": null,
            "object_position": null,
            "order": null,
            "overflow": null,
            "overflow_x": null,
            "overflow_y": null,
            "padding": null,
            "right": null,
            "top": null,
            "visibility": null,
            "width": null
          }
        },
        "667cd35e9e1a47f4b6dbf70e1eb1b2b2": {
          "model_module": "@jupyter-widgets/controls",
          "model_name": "DescriptionStyleModel",
          "model_module_version": "1.5.0",
          "state": {
            "_model_module": "@jupyter-widgets/controls",
            "_model_module_version": "1.5.0",
            "_model_name": "DescriptionStyleModel",
            "_view_count": null,
            "_view_module": "@jupyter-widgets/base",
            "_view_module_version": "1.2.0",
            "_view_name": "StyleView",
            "description_width": ""
          }
        },
        "4800634e21c84ea59b2873cc3528ebe9": {
          "model_module": "@jupyter-widgets/controls",
          "model_name": "HBoxModel",
          "model_module_version": "1.5.0",
          "state": {
            "_dom_classes": [],
            "_model_module": "@jupyter-widgets/controls",
            "_model_module_version": "1.5.0",
            "_model_name": "HBoxModel",
            "_view_count": null,
            "_view_module": "@jupyter-widgets/controls",
            "_view_module_version": "1.5.0",
            "_view_name": "HBoxView",
            "box_style": "",
            "children": [
              "IPY_MODEL_5e1c36e2a92f44c5987772eb41003ed9",
              "IPY_MODEL_163bf680bff345d896163aa2f741181a",
              "IPY_MODEL_499bcecb56e64a98ad3da8be9ac3d036"
            ],
            "layout": "IPY_MODEL_543f038511c448af8f97fde21ca36710"
          }
        },
        "5e1c36e2a92f44c5987772eb41003ed9": {
          "model_module": "@jupyter-widgets/controls",
          "model_name": "HTMLModel",
          "model_module_version": "1.5.0",
          "state": {
            "_dom_classes": [],
            "_model_module": "@jupyter-widgets/controls",
            "_model_module_version": "1.5.0",
            "_model_name": "HTMLModel",
            "_view_count": null,
            "_view_module": "@jupyter-widgets/controls",
            "_view_module_version": "1.5.0",
            "_view_name": "HTMLView",
            "description": "",
            "description_tooltip": null,
            "layout": "IPY_MODEL_681c0615041844aebe49d72546e9cad4",
            "placeholder": "​",
            "style": "IPY_MODEL_1c2262d505f849a0a7faa9e454e74c4a",
            "value": "spiece.model: 100%"
          }
        },
        "163bf680bff345d896163aa2f741181a": {
          "model_module": "@jupyter-widgets/controls",
          "model_name": "FloatProgressModel",
          "model_module_version": "1.5.0",
          "state": {
            "_dom_classes": [],
            "_model_module": "@jupyter-widgets/controls",
            "_model_module_version": "1.5.0",
            "_model_name": "FloatProgressModel",
            "_view_count": null,
            "_view_module": "@jupyter-widgets/controls",
            "_view_module_version": "1.5.0",
            "_view_name": "ProgressView",
            "bar_style": "success",
            "description": "",
            "description_tooltip": null,
            "layout": "IPY_MODEL_7fcb705b0eb348a7a9dc59c8a6b71cc2",
            "max": 791656,
            "min": 0,
            "orientation": "horizontal",
            "style": "IPY_MODEL_c64ca1ccc42f4b79bd1132f378d6ccd0",
            "value": 791656
          }
        },
        "499bcecb56e64a98ad3da8be9ac3d036": {
          "model_module": "@jupyter-widgets/controls",
          "model_name": "HTMLModel",
          "model_module_version": "1.5.0",
          "state": {
            "_dom_classes": [],
            "_model_module": "@jupyter-widgets/controls",
            "_model_module_version": "1.5.0",
            "_model_name": "HTMLModel",
            "_view_count": null,
            "_view_module": "@jupyter-widgets/controls",
            "_view_module_version": "1.5.0",
            "_view_name": "HTMLView",
            "description": "",
            "description_tooltip": null,
            "layout": "IPY_MODEL_57b26a8d2019443c9813a3e16a31309d",
            "placeholder": "​",
            "style": "IPY_MODEL_a8935db0aa00496c957d47a156de2f00",
            "value": " 792k/792k [00:00&lt;00:00, 18.6MB/s]"
          }
        },
        "543f038511c448af8f97fde21ca36710": {
          "model_module": "@jupyter-widgets/base",
          "model_name": "LayoutModel",
          "model_module_version": "1.2.0",
          "state": {
            "_model_module": "@jupyter-widgets/base",
            "_model_module_version": "1.2.0",
            "_model_name": "LayoutModel",
            "_view_count": null,
            "_view_module": "@jupyter-widgets/base",
            "_view_module_version": "1.2.0",
            "_view_name": "LayoutView",
            "align_content": null,
            "align_items": null,
            "align_self": null,
            "border": null,
            "bottom": null,
            "display": null,
            "flex": null,
            "flex_flow": null,
            "grid_area": null,
            "grid_auto_columns": null,
            "grid_auto_flow": null,
            "grid_auto_rows": null,
            "grid_column": null,
            "grid_gap": null,
            "grid_row": null,
            "grid_template_areas": null,
            "grid_template_columns": null,
            "grid_template_rows": null,
            "height": null,
            "justify_content": null,
            "justify_items": null,
            "left": null,
            "margin": null,
            "max_height": null,
            "max_width": null,
            "min_height": null,
            "min_width": null,
            "object_fit": null,
            "object_position": null,
            "order": null,
            "overflow": null,
            "overflow_x": null,
            "overflow_y": null,
            "padding": null,
            "right": null,
            "top": null,
            "visibility": null,
            "width": null
          }
        },
        "681c0615041844aebe49d72546e9cad4": {
          "model_module": "@jupyter-widgets/base",
          "model_name": "LayoutModel",
          "model_module_version": "1.2.0",
          "state": {
            "_model_module": "@jupyter-widgets/base",
            "_model_module_version": "1.2.0",
            "_model_name": "LayoutModel",
            "_view_count": null,
            "_view_module": "@jupyter-widgets/base",
            "_view_module_version": "1.2.0",
            "_view_name": "LayoutView",
            "align_content": null,
            "align_items": null,
            "align_self": null,
            "border": null,
            "bottom": null,
            "display": null,
            "flex": null,
            "flex_flow": null,
            "grid_area": null,
            "grid_auto_columns": null,
            "grid_auto_flow": null,
            "grid_auto_rows": null,
            "grid_column": null,
            "grid_gap": null,
            "grid_row": null,
            "grid_template_areas": null,
            "grid_template_columns": null,
            "grid_template_rows": null,
            "height": null,
            "justify_content": null,
            "justify_items": null,
            "left": null,
            "margin": null,
            "max_height": null,
            "max_width": null,
            "min_height": null,
            "min_width": null,
            "object_fit": null,
            "object_position": null,
            "order": null,
            "overflow": null,
            "overflow_x": null,
            "overflow_y": null,
            "padding": null,
            "right": null,
            "top": null,
            "visibility": null,
            "width": null
          }
        },
        "1c2262d505f849a0a7faa9e454e74c4a": {
          "model_module": "@jupyter-widgets/controls",
          "model_name": "DescriptionStyleModel",
          "model_module_version": "1.5.0",
          "state": {
            "_model_module": "@jupyter-widgets/controls",
            "_model_module_version": "1.5.0",
            "_model_name": "DescriptionStyleModel",
            "_view_count": null,
            "_view_module": "@jupyter-widgets/base",
            "_view_module_version": "1.2.0",
            "_view_name": "StyleView",
            "description_width": ""
          }
        },
        "7fcb705b0eb348a7a9dc59c8a6b71cc2": {
          "model_module": "@jupyter-widgets/base",
          "model_name": "LayoutModel",
          "model_module_version": "1.2.0",
          "state": {
            "_model_module": "@jupyter-widgets/base",
            "_model_module_version": "1.2.0",
            "_model_name": "LayoutModel",
            "_view_count": null,
            "_view_module": "@jupyter-widgets/base",
            "_view_module_version": "1.2.0",
            "_view_name": "LayoutView",
            "align_content": null,
            "align_items": null,
            "align_self": null,
            "border": null,
            "bottom": null,
            "display": null,
            "flex": null,
            "flex_flow": null,
            "grid_area": null,
            "grid_auto_columns": null,
            "grid_auto_flow": null,
            "grid_auto_rows": null,
            "grid_column": null,
            "grid_gap": null,
            "grid_row": null,
            "grid_template_areas": null,
            "grid_template_columns": null,
            "grid_template_rows": null,
            "height": null,
            "justify_content": null,
            "justify_items": null,
            "left": null,
            "margin": null,
            "max_height": null,
            "max_width": null,
            "min_height": null,
            "min_width": null,
            "object_fit": null,
            "object_position": null,
            "order": null,
            "overflow": null,
            "overflow_x": null,
            "overflow_y": null,
            "padding": null,
            "right": null,
            "top": null,
            "visibility": null,
            "width": null
          }
        },
        "c64ca1ccc42f4b79bd1132f378d6ccd0": {
          "model_module": "@jupyter-widgets/controls",
          "model_name": "ProgressStyleModel",
          "model_module_version": "1.5.0",
          "state": {
            "_model_module": "@jupyter-widgets/controls",
            "_model_module_version": "1.5.0",
            "_model_name": "ProgressStyleModel",
            "_view_count": null,
            "_view_module": "@jupyter-widgets/base",
            "_view_module_version": "1.2.0",
            "_view_name": "StyleView",
            "bar_color": null,
            "description_width": ""
          }
        },
        "57b26a8d2019443c9813a3e16a31309d": {
          "model_module": "@jupyter-widgets/base",
          "model_name": "LayoutModel",
          "model_module_version": "1.2.0",
          "state": {
            "_model_module": "@jupyter-widgets/base",
            "_model_module_version": "1.2.0",
            "_model_name": "LayoutModel",
            "_view_count": null,
            "_view_module": "@jupyter-widgets/base",
            "_view_module_version": "1.2.0",
            "_view_name": "LayoutView",
            "align_content": null,
            "align_items": null,
            "align_self": null,
            "border": null,
            "bottom": null,
            "display": null,
            "flex": null,
            "flex_flow": null,
            "grid_area": null,
            "grid_auto_columns": null,
            "grid_auto_flow": null,
            "grid_auto_rows": null,
            "grid_column": null,
            "grid_gap": null,
            "grid_row": null,
            "grid_template_areas": null,
            "grid_template_columns": null,
            "grid_template_rows": null,
            "height": null,
            "justify_content": null,
            "justify_items": null,
            "left": null,
            "margin": null,
            "max_height": null,
            "max_width": null,
            "min_height": null,
            "min_width": null,
            "object_fit": null,
            "object_position": null,
            "order": null,
            "overflow": null,
            "overflow_x": null,
            "overflow_y": null,
            "padding": null,
            "right": null,
            "top": null,
            "visibility": null,
            "width": null
          }
        },
        "a8935db0aa00496c957d47a156de2f00": {
          "model_module": "@jupyter-widgets/controls",
          "model_name": "DescriptionStyleModel",
          "model_module_version": "1.5.0",
          "state": {
            "_model_module": "@jupyter-widgets/controls",
            "_model_module_version": "1.5.0",
            "_model_name": "DescriptionStyleModel",
            "_view_count": null,
            "_view_module": "@jupyter-widgets/base",
            "_view_module_version": "1.2.0",
            "_view_name": "StyleView",
            "description_width": ""
          }
        },
        "ee1cff536c78477088a6a7f22e90b0d4": {
          "model_module": "@jupyter-widgets/controls",
          "model_name": "HBoxModel",
          "model_module_version": "1.5.0",
          "state": {
            "_dom_classes": [],
            "_model_module": "@jupyter-widgets/controls",
            "_model_module_version": "1.5.0",
            "_model_name": "HBoxModel",
            "_view_count": null,
            "_view_module": "@jupyter-widgets/controls",
            "_view_module_version": "1.5.0",
            "_view_name": "HBoxView",
            "box_style": "",
            "children": [
              "IPY_MODEL_bdd2cdc499574484b924966b88e848ee",
              "IPY_MODEL_f037228177694feabea51c58aaaf65c8",
              "IPY_MODEL_c9ba844d23864711a5d7dda69b038124"
            ],
            "layout": "IPY_MODEL_22f5883ee8934f3b80d5538414aff2e6"
          }
        },
        "bdd2cdc499574484b924966b88e848ee": {
          "model_module": "@jupyter-widgets/controls",
          "model_name": "HTMLModel",
          "model_module_version": "1.5.0",
          "state": {
            "_dom_classes": [],
            "_model_module": "@jupyter-widgets/controls",
            "_model_module_version": "1.5.0",
            "_model_name": "HTMLModel",
            "_view_count": null,
            "_view_module": "@jupyter-widgets/controls",
            "_view_module_version": "1.5.0",
            "_view_name": "HTMLView",
            "description": "",
            "description_tooltip": null,
            "layout": "IPY_MODEL_05ec246004e249cdbf80faf06c450cd7",
            "placeholder": "​",
            "style": "IPY_MODEL_df84026e451e472fa5e6445132b612a7",
            "value": "tokenizer.json: 100%"
          }
        },
        "f037228177694feabea51c58aaaf65c8": {
          "model_module": "@jupyter-widgets/controls",
          "model_name": "FloatProgressModel",
          "model_module_version": "1.5.0",
          "state": {
            "_dom_classes": [],
            "_model_module": "@jupyter-widgets/controls",
            "_model_module_version": "1.5.0",
            "_model_name": "FloatProgressModel",
            "_view_count": null,
            "_view_module": "@jupyter-widgets/controls",
            "_view_module_version": "1.5.0",
            "_view_name": "ProgressView",
            "bar_style": "success",
            "description": "",
            "description_tooltip": null,
            "layout": "IPY_MODEL_e0e96c2c8aa84f2c8ab7fefc332df208",
            "max": 1389353,
            "min": 0,
            "orientation": "horizontal",
            "style": "IPY_MODEL_e4092777c16a40b4a2eaa00002d50c6e",
            "value": 1389353
          }
        },
        "c9ba844d23864711a5d7dda69b038124": {
          "model_module": "@jupyter-widgets/controls",
          "model_name": "HTMLModel",
          "model_module_version": "1.5.0",
          "state": {
            "_dom_classes": [],
            "_model_module": "@jupyter-widgets/controls",
            "_model_module_version": "1.5.0",
            "_model_name": "HTMLModel",
            "_view_count": null,
            "_view_module": "@jupyter-widgets/controls",
            "_view_module_version": "1.5.0",
            "_view_name": "HTMLView",
            "description": "",
            "description_tooltip": null,
            "layout": "IPY_MODEL_44316533c803471a8a6658d4633978ea",
            "placeholder": "​",
            "style": "IPY_MODEL_faf58d166f5a4929916ecd5c2dad9c1c",
            "value": " 1.39M/1.39M [00:00&lt;00:00, 6.44MB/s]"
          }
        },
        "22f5883ee8934f3b80d5538414aff2e6": {
          "model_module": "@jupyter-widgets/base",
          "model_name": "LayoutModel",
          "model_module_version": "1.2.0",
          "state": {
            "_model_module": "@jupyter-widgets/base",
            "_model_module_version": "1.2.0",
            "_model_name": "LayoutModel",
            "_view_count": null,
            "_view_module": "@jupyter-widgets/base",
            "_view_module_version": "1.2.0",
            "_view_name": "LayoutView",
            "align_content": null,
            "align_items": null,
            "align_self": null,
            "border": null,
            "bottom": null,
            "display": null,
            "flex": null,
            "flex_flow": null,
            "grid_area": null,
            "grid_auto_columns": null,
            "grid_auto_flow": null,
            "grid_auto_rows": null,
            "grid_column": null,
            "grid_gap": null,
            "grid_row": null,
            "grid_template_areas": null,
            "grid_template_columns": null,
            "grid_template_rows": null,
            "height": null,
            "justify_content": null,
            "justify_items": null,
            "left": null,
            "margin": null,
            "max_height": null,
            "max_width": null,
            "min_height": null,
            "min_width": null,
            "object_fit": null,
            "object_position": null,
            "order": null,
            "overflow": null,
            "overflow_x": null,
            "overflow_y": null,
            "padding": null,
            "right": null,
            "top": null,
            "visibility": null,
            "width": null
          }
        },
        "05ec246004e249cdbf80faf06c450cd7": {
          "model_module": "@jupyter-widgets/base",
          "model_name": "LayoutModel",
          "model_module_version": "1.2.0",
          "state": {
            "_model_module": "@jupyter-widgets/base",
            "_model_module_version": "1.2.0",
            "_model_name": "LayoutModel",
            "_view_count": null,
            "_view_module": "@jupyter-widgets/base",
            "_view_module_version": "1.2.0",
            "_view_name": "LayoutView",
            "align_content": null,
            "align_items": null,
            "align_self": null,
            "border": null,
            "bottom": null,
            "display": null,
            "flex": null,
            "flex_flow": null,
            "grid_area": null,
            "grid_auto_columns": null,
            "grid_auto_flow": null,
            "grid_auto_rows": null,
            "grid_column": null,
            "grid_gap": null,
            "grid_row": null,
            "grid_template_areas": null,
            "grid_template_columns": null,
            "grid_template_rows": null,
            "height": null,
            "justify_content": null,
            "justify_items": null,
            "left": null,
            "margin": null,
            "max_height": null,
            "max_width": null,
            "min_height": null,
            "min_width": null,
            "object_fit": null,
            "object_position": null,
            "order": null,
            "overflow": null,
            "overflow_x": null,
            "overflow_y": null,
            "padding": null,
            "right": null,
            "top": null,
            "visibility": null,
            "width": null
          }
        },
        "df84026e451e472fa5e6445132b612a7": {
          "model_module": "@jupyter-widgets/controls",
          "model_name": "DescriptionStyleModel",
          "model_module_version": "1.5.0",
          "state": {
            "_model_module": "@jupyter-widgets/controls",
            "_model_module_version": "1.5.0",
            "_model_name": "DescriptionStyleModel",
            "_view_count": null,
            "_view_module": "@jupyter-widgets/base",
            "_view_module_version": "1.2.0",
            "_view_name": "StyleView",
            "description_width": ""
          }
        },
        "e0e96c2c8aa84f2c8ab7fefc332df208": {
          "model_module": "@jupyter-widgets/base",
          "model_name": "LayoutModel",
          "model_module_version": "1.2.0",
          "state": {
            "_model_module": "@jupyter-widgets/base",
            "_model_module_version": "1.2.0",
            "_model_name": "LayoutModel",
            "_view_count": null,
            "_view_module": "@jupyter-widgets/base",
            "_view_module_version": "1.2.0",
            "_view_name": "LayoutView",
            "align_content": null,
            "align_items": null,
            "align_self": null,
            "border": null,
            "bottom": null,
            "display": null,
            "flex": null,
            "flex_flow": null,
            "grid_area": null,
            "grid_auto_columns": null,
            "grid_auto_flow": null,
            "grid_auto_rows": null,
            "grid_column": null,
            "grid_gap": null,
            "grid_row": null,
            "grid_template_areas": null,
            "grid_template_columns": null,
            "grid_template_rows": null,
            "height": null,
            "justify_content": null,
            "justify_items": null,
            "left": null,
            "margin": null,
            "max_height": null,
            "max_width": null,
            "min_height": null,
            "min_width": null,
            "object_fit": null,
            "object_position": null,
            "order": null,
            "overflow": null,
            "overflow_x": null,
            "overflow_y": null,
            "padding": null,
            "right": null,
            "top": null,
            "visibility": null,
            "width": null
          }
        },
        "e4092777c16a40b4a2eaa00002d50c6e": {
          "model_module": "@jupyter-widgets/controls",
          "model_name": "ProgressStyleModel",
          "model_module_version": "1.5.0",
          "state": {
            "_model_module": "@jupyter-widgets/controls",
            "_model_module_version": "1.5.0",
            "_model_name": "ProgressStyleModel",
            "_view_count": null,
            "_view_module": "@jupyter-widgets/base",
            "_view_module_version": "1.2.0",
            "_view_name": "StyleView",
            "bar_color": null,
            "description_width": ""
          }
        },
        "44316533c803471a8a6658d4633978ea": {
          "model_module": "@jupyter-widgets/base",
          "model_name": "LayoutModel",
          "model_module_version": "1.2.0",
          "state": {
            "_model_module": "@jupyter-widgets/base",
            "_model_module_version": "1.2.0",
            "_model_name": "LayoutModel",
            "_view_count": null,
            "_view_module": "@jupyter-widgets/base",
            "_view_module_version": "1.2.0",
            "_view_name": "LayoutView",
            "align_content": null,
            "align_items": null,
            "align_self": null,
            "border": null,
            "bottom": null,
            "display": null,
            "flex": null,
            "flex_flow": null,
            "grid_area": null,
            "grid_auto_columns": null,
            "grid_auto_flow": null,
            "grid_auto_rows": null,
            "grid_column": null,
            "grid_gap": null,
            "grid_row": null,
            "grid_template_areas": null,
            "grid_template_columns": null,
            "grid_template_rows": null,
            "height": null,
            "justify_content": null,
            "justify_items": null,
            "left": null,
            "margin": null,
            "max_height": null,
            "max_width": null,
            "min_height": null,
            "min_width": null,
            "object_fit": null,
            "object_position": null,
            "order": null,
            "overflow": null,
            "overflow_x": null,
            "overflow_y": null,
            "padding": null,
            "right": null,
            "top": null,
            "visibility": null,
            "width": null
          }
        },
        "faf58d166f5a4929916ecd5c2dad9c1c": {
          "model_module": "@jupyter-widgets/controls",
          "model_name": "DescriptionStyleModel",
          "model_module_version": "1.5.0",
          "state": {
            "_model_module": "@jupyter-widgets/controls",
            "_model_module_version": "1.5.0",
            "_model_name": "DescriptionStyleModel",
            "_view_count": null,
            "_view_module": "@jupyter-widgets/base",
            "_view_module_version": "1.2.0",
            "_view_name": "StyleView",
            "description_width": ""
          }
        },
        "723bddaa64f0473cad7108ee581369ec": {
          "model_module": "@jupyter-widgets/controls",
          "model_name": "HBoxModel",
          "model_module_version": "1.5.0",
          "state": {
            "_dom_classes": [],
            "_model_module": "@jupyter-widgets/controls",
            "_model_module_version": "1.5.0",
            "_model_name": "HBoxModel",
            "_view_count": null,
            "_view_module": "@jupyter-widgets/controls",
            "_view_module_version": "1.5.0",
            "_view_name": "HBoxView",
            "box_style": "",
            "children": [
              "IPY_MODEL_dd7d0465351c4d16b0a5aff5fddc270a",
              "IPY_MODEL_be4cf81bff3c471a990a45273aa09ae9",
              "IPY_MODEL_a367310b717742c79d890593524b90c2"
            ],
            "layout": "IPY_MODEL_bb1c8ba3e72c43fa9ed171924b068141"
          }
        },
        "dd7d0465351c4d16b0a5aff5fddc270a": {
          "model_module": "@jupyter-widgets/controls",
          "model_name": "HTMLModel",
          "model_module_version": "1.5.0",
          "state": {
            "_dom_classes": [],
            "_model_module": "@jupyter-widgets/controls",
            "_model_module_version": "1.5.0",
            "_model_name": "HTMLModel",
            "_view_count": null,
            "_view_module": "@jupyter-widgets/controls",
            "_view_module_version": "1.5.0",
            "_view_name": "HTMLView",
            "description": "",
            "description_tooltip": null,
            "layout": "IPY_MODEL_5fadbcb0a4db427ba37e932a81c6c12e",
            "placeholder": "​",
            "style": "IPY_MODEL_e413c04fdab64976a7aedf3a2e7dfff7",
            "value": "config.json: 100%"
          }
        },
        "be4cf81bff3c471a990a45273aa09ae9": {
          "model_module": "@jupyter-widgets/controls",
          "model_name": "FloatProgressModel",
          "model_module_version": "1.5.0",
          "state": {
            "_dom_classes": [],
            "_model_module": "@jupyter-widgets/controls",
            "_model_module_version": "1.5.0",
            "_model_name": "FloatProgressModel",
            "_view_count": null,
            "_view_module": "@jupyter-widgets/controls",
            "_view_module_version": "1.5.0",
            "_view_name": "ProgressView",
            "bar_style": "success",
            "description": "",
            "description_tooltip": null,
            "layout": "IPY_MODEL_8bbe8176781a4100992d8bed02e8ba84",
            "max": 1206,
            "min": 0,
            "orientation": "horizontal",
            "style": "IPY_MODEL_201a35d10ffd4860ae966dd14b37d9fe",
            "value": 1206
          }
        },
        "a367310b717742c79d890593524b90c2": {
          "model_module": "@jupyter-widgets/controls",
          "model_name": "HTMLModel",
          "model_module_version": "1.5.0",
          "state": {
            "_dom_classes": [],
            "_model_module": "@jupyter-widgets/controls",
            "_model_module_version": "1.5.0",
            "_model_name": "HTMLModel",
            "_view_count": null,
            "_view_module": "@jupyter-widgets/controls",
            "_view_module_version": "1.5.0",
            "_view_name": "HTMLView",
            "description": "",
            "description_tooltip": null,
            "layout": "IPY_MODEL_a953544f0202454b8ecf654000b18a58",
            "placeholder": "​",
            "style": "IPY_MODEL_3ffbdf103ed54f22b588b9b2be45a2a9",
            "value": " 1.21k/1.21k [00:00&lt;00:00, 94.0kB/s]"
          }
        },
        "bb1c8ba3e72c43fa9ed171924b068141": {
          "model_module": "@jupyter-widgets/base",
          "model_name": "LayoutModel",
          "model_module_version": "1.2.0",
          "state": {
            "_model_module": "@jupyter-widgets/base",
            "_model_module_version": "1.2.0",
            "_model_name": "LayoutModel",
            "_view_count": null,
            "_view_module": "@jupyter-widgets/base",
            "_view_module_version": "1.2.0",
            "_view_name": "LayoutView",
            "align_content": null,
            "align_items": null,
            "align_self": null,
            "border": null,
            "bottom": null,
            "display": null,
            "flex": null,
            "flex_flow": null,
            "grid_area": null,
            "grid_auto_columns": null,
            "grid_auto_flow": null,
            "grid_auto_rows": null,
            "grid_column": null,
            "grid_gap": null,
            "grid_row": null,
            "grid_template_areas": null,
            "grid_template_columns": null,
            "grid_template_rows": null,
            "height": null,
            "justify_content": null,
            "justify_items": null,
            "left": null,
            "margin": null,
            "max_height": null,
            "max_width": null,
            "min_height": null,
            "min_width": null,
            "object_fit": null,
            "object_position": null,
            "order": null,
            "overflow": null,
            "overflow_x": null,
            "overflow_y": null,
            "padding": null,
            "right": null,
            "top": null,
            "visibility": null,
            "width": null
          }
        },
        "5fadbcb0a4db427ba37e932a81c6c12e": {
          "model_module": "@jupyter-widgets/base",
          "model_name": "LayoutModel",
          "model_module_version": "1.2.0",
          "state": {
            "_model_module": "@jupyter-widgets/base",
            "_model_module_version": "1.2.0",
            "_model_name": "LayoutModel",
            "_view_count": null,
            "_view_module": "@jupyter-widgets/base",
            "_view_module_version": "1.2.0",
            "_view_name": "LayoutView",
            "align_content": null,
            "align_items": null,
            "align_self": null,
            "border": null,
            "bottom": null,
            "display": null,
            "flex": null,
            "flex_flow": null,
            "grid_area": null,
            "grid_auto_columns": null,
            "grid_auto_flow": null,
            "grid_auto_rows": null,
            "grid_column": null,
            "grid_gap": null,
            "grid_row": null,
            "grid_template_areas": null,
            "grid_template_columns": null,
            "grid_template_rows": null,
            "height": null,
            "justify_content": null,
            "justify_items": null,
            "left": null,
            "margin": null,
            "max_height": null,
            "max_width": null,
            "min_height": null,
            "min_width": null,
            "object_fit": null,
            "object_position": null,
            "order": null,
            "overflow": null,
            "overflow_x": null,
            "overflow_y": null,
            "padding": null,
            "right": null,
            "top": null,
            "visibility": null,
            "width": null
          }
        },
        "e413c04fdab64976a7aedf3a2e7dfff7": {
          "model_module": "@jupyter-widgets/controls",
          "model_name": "DescriptionStyleModel",
          "model_module_version": "1.5.0",
          "state": {
            "_model_module": "@jupyter-widgets/controls",
            "_model_module_version": "1.5.0",
            "_model_name": "DescriptionStyleModel",
            "_view_count": null,
            "_view_module": "@jupyter-widgets/base",
            "_view_module_version": "1.2.0",
            "_view_name": "StyleView",
            "description_width": ""
          }
        },
        "8bbe8176781a4100992d8bed02e8ba84": {
          "model_module": "@jupyter-widgets/base",
          "model_name": "LayoutModel",
          "model_module_version": "1.2.0",
          "state": {
            "_model_module": "@jupyter-widgets/base",
            "_model_module_version": "1.2.0",
            "_model_name": "LayoutModel",
            "_view_count": null,
            "_view_module": "@jupyter-widgets/base",
            "_view_module_version": "1.2.0",
            "_view_name": "LayoutView",
            "align_content": null,
            "align_items": null,
            "align_self": null,
            "border": null,
            "bottom": null,
            "display": null,
            "flex": null,
            "flex_flow": null,
            "grid_area": null,
            "grid_auto_columns": null,
            "grid_auto_flow": null,
            "grid_auto_rows": null,
            "grid_column": null,
            "grid_gap": null,
            "grid_row": null,
            "grid_template_areas": null,
            "grid_template_columns": null,
            "grid_template_rows": null,
            "height": null,
            "justify_content": null,
            "justify_items": null,
            "left": null,
            "margin": null,
            "max_height": null,
            "max_width": null,
            "min_height": null,
            "min_width": null,
            "object_fit": null,
            "object_position": null,
            "order": null,
            "overflow": null,
            "overflow_x": null,
            "overflow_y": null,
            "padding": null,
            "right": null,
            "top": null,
            "visibility": null,
            "width": null
          }
        },
        "201a35d10ffd4860ae966dd14b37d9fe": {
          "model_module": "@jupyter-widgets/controls",
          "model_name": "ProgressStyleModel",
          "model_module_version": "1.5.0",
          "state": {
            "_model_module": "@jupyter-widgets/controls",
            "_model_module_version": "1.5.0",
            "_model_name": "ProgressStyleModel",
            "_view_count": null,
            "_view_module": "@jupyter-widgets/base",
            "_view_module_version": "1.2.0",
            "_view_name": "StyleView",
            "bar_color": null,
            "description_width": ""
          }
        },
        "a953544f0202454b8ecf654000b18a58": {
          "model_module": "@jupyter-widgets/base",
          "model_name": "LayoutModel",
          "model_module_version": "1.2.0",
          "state": {
            "_model_module": "@jupyter-widgets/base",
            "_model_module_version": "1.2.0",
            "_model_name": "LayoutModel",
            "_view_count": null,
            "_view_module": "@jupyter-widgets/base",
            "_view_module_version": "1.2.0",
            "_view_name": "LayoutView",
            "align_content": null,
            "align_items": null,
            "align_self": null,
            "border": null,
            "bottom": null,
            "display": null,
            "flex": null,
            "flex_flow": null,
            "grid_area": null,
            "grid_auto_columns": null,
            "grid_auto_flow": null,
            "grid_auto_rows": null,
            "grid_column": null,
            "grid_gap": null,
            "grid_row": null,
            "grid_template_areas": null,
            "grid_template_columns": null,
            "grid_template_rows": null,
            "height": null,
            "justify_content": null,
            "justify_items": null,
            "left": null,
            "margin": null,
            "max_height": null,
            "max_width": null,
            "min_height": null,
            "min_width": null,
            "object_fit": null,
            "object_position": null,
            "order": null,
            "overflow": null,
            "overflow_x": null,
            "overflow_y": null,
            "padding": null,
            "right": null,
            "top": null,
            "visibility": null,
            "width": null
          }
        },
        "3ffbdf103ed54f22b588b9b2be45a2a9": {
          "model_module": "@jupyter-widgets/controls",
          "model_name": "DescriptionStyleModel",
          "model_module_version": "1.5.0",
          "state": {
            "_model_module": "@jupyter-widgets/controls",
            "_model_module_version": "1.5.0",
            "_model_name": "DescriptionStyleModel",
            "_view_count": null,
            "_view_module": "@jupyter-widgets/base",
            "_view_module_version": "1.2.0",
            "_view_name": "StyleView",
            "description_width": ""
          }
        },
        "a99f2259be7c4d8288d66904b2503131": {
          "model_module": "@jupyter-widgets/controls",
          "model_name": "HBoxModel",
          "model_module_version": "1.5.0",
          "state": {
            "_dom_classes": [],
            "_model_module": "@jupyter-widgets/controls",
            "_model_module_version": "1.5.0",
            "_model_name": "HBoxModel",
            "_view_count": null,
            "_view_module": "@jupyter-widgets/controls",
            "_view_module_version": "1.5.0",
            "_view_name": "HBoxView",
            "box_style": "",
            "children": [
              "IPY_MODEL_4af630eabdee4166ab85d9deaa2bc638",
              "IPY_MODEL_93f8e3cb86bc4ba1a60e79acea31f372",
              "IPY_MODEL_7ca32bbf11564c658682b63f2a3635ce"
            ],
            "layout": "IPY_MODEL_e7c2fb8692894951a9f3493b8b392553"
          }
        },
        "4af630eabdee4166ab85d9deaa2bc638": {
          "model_module": "@jupyter-widgets/controls",
          "model_name": "HTMLModel",
          "model_module_version": "1.5.0",
          "state": {
            "_dom_classes": [],
            "_model_module": "@jupyter-widgets/controls",
            "_model_module_version": "1.5.0",
            "_model_name": "HTMLModel",
            "_view_count": null,
            "_view_module": "@jupyter-widgets/controls",
            "_view_module_version": "1.5.0",
            "_view_name": "HTMLView",
            "description": "",
            "description_tooltip": null,
            "layout": "IPY_MODEL_aaafa710368c46d6887402766fe63664",
            "placeholder": "​",
            "style": "IPY_MODEL_58f69a752895478b936d09c03b455aa8",
            "value": "model.safetensors: 100%"
          }
        },
        "93f8e3cb86bc4ba1a60e79acea31f372": {
          "model_module": "@jupyter-widgets/controls",
          "model_name": "FloatProgressModel",
          "model_module_version": "1.5.0",
          "state": {
            "_dom_classes": [],
            "_model_module": "@jupyter-widgets/controls",
            "_model_module_version": "1.5.0",
            "_model_name": "FloatProgressModel",
            "_view_count": null,
            "_view_module": "@jupyter-widgets/controls",
            "_view_module_version": "1.5.0",
            "_view_name": "ProgressView",
            "bar_style": "success",
            "description": "",
            "description_tooltip": null,
            "layout": "IPY_MODEL_2db41b8b8c02481c95c8c67b47d1bab4",
            "max": 242043056,
            "min": 0,
            "orientation": "horizontal",
            "style": "IPY_MODEL_6ca0b9562da44ab08ef15a83d71f0826",
            "value": 242043056
          }
        },
        "7ca32bbf11564c658682b63f2a3635ce": {
          "model_module": "@jupyter-widgets/controls",
          "model_name": "HTMLModel",
          "model_module_version": "1.5.0",
          "state": {
            "_dom_classes": [],
            "_model_module": "@jupyter-widgets/controls",
            "_model_module_version": "1.5.0",
            "_model_name": "HTMLModel",
            "_view_count": null,
            "_view_module": "@jupyter-widgets/controls",
            "_view_module_version": "1.5.0",
            "_view_name": "HTMLView",
            "description": "",
            "description_tooltip": null,
            "layout": "IPY_MODEL_497754af75ff4e19aeb573ecf40e72f6",
            "placeholder": "​",
            "style": "IPY_MODEL_bd54732dff6b4499b8a315a83ec4befb",
            "value": " 242M/242M [00:01&lt;00:00, 245MB/s]"
          }
        },
        "e7c2fb8692894951a9f3493b8b392553": {
          "model_module": "@jupyter-widgets/base",
          "model_name": "LayoutModel",
          "model_module_version": "1.2.0",
          "state": {
            "_model_module": "@jupyter-widgets/base",
            "_model_module_version": "1.2.0",
            "_model_name": "LayoutModel",
            "_view_count": null,
            "_view_module": "@jupyter-widgets/base",
            "_view_module_version": "1.2.0",
            "_view_name": "LayoutView",
            "align_content": null,
            "align_items": null,
            "align_self": null,
            "border": null,
            "bottom": null,
            "display": null,
            "flex": null,
            "flex_flow": null,
            "grid_area": null,
            "grid_auto_columns": null,
            "grid_auto_flow": null,
            "grid_auto_rows": null,
            "grid_column": null,
            "grid_gap": null,
            "grid_row": null,
            "grid_template_areas": null,
            "grid_template_columns": null,
            "grid_template_rows": null,
            "height": null,
            "justify_content": null,
            "justify_items": null,
            "left": null,
            "margin": null,
            "max_height": null,
            "max_width": null,
            "min_height": null,
            "min_width": null,
            "object_fit": null,
            "object_position": null,
            "order": null,
            "overflow": null,
            "overflow_x": null,
            "overflow_y": null,
            "padding": null,
            "right": null,
            "top": null,
            "visibility": null,
            "width": null
          }
        },
        "aaafa710368c46d6887402766fe63664": {
          "model_module": "@jupyter-widgets/base",
          "model_name": "LayoutModel",
          "model_module_version": "1.2.0",
          "state": {
            "_model_module": "@jupyter-widgets/base",
            "_model_module_version": "1.2.0",
            "_model_name": "LayoutModel",
            "_view_count": null,
            "_view_module": "@jupyter-widgets/base",
            "_view_module_version": "1.2.0",
            "_view_name": "LayoutView",
            "align_content": null,
            "align_items": null,
            "align_self": null,
            "border": null,
            "bottom": null,
            "display": null,
            "flex": null,
            "flex_flow": null,
            "grid_area": null,
            "grid_auto_columns": null,
            "grid_auto_flow": null,
            "grid_auto_rows": null,
            "grid_column": null,
            "grid_gap": null,
            "grid_row": null,
            "grid_template_areas": null,
            "grid_template_columns": null,
            "grid_template_rows": null,
            "height": null,
            "justify_content": null,
            "justify_items": null,
            "left": null,
            "margin": null,
            "max_height": null,
            "max_width": null,
            "min_height": null,
            "min_width": null,
            "object_fit": null,
            "object_position": null,
            "order": null,
            "overflow": null,
            "overflow_x": null,
            "overflow_y": null,
            "padding": null,
            "right": null,
            "top": null,
            "visibility": null,
            "width": null
          }
        },
        "58f69a752895478b936d09c03b455aa8": {
          "model_module": "@jupyter-widgets/controls",
          "model_name": "DescriptionStyleModel",
          "model_module_version": "1.5.0",
          "state": {
            "_model_module": "@jupyter-widgets/controls",
            "_model_module_version": "1.5.0",
            "_model_name": "DescriptionStyleModel",
            "_view_count": null,
            "_view_module": "@jupyter-widgets/base",
            "_view_module_version": "1.2.0",
            "_view_name": "StyleView",
            "description_width": ""
          }
        },
        "2db41b8b8c02481c95c8c67b47d1bab4": {
          "model_module": "@jupyter-widgets/base",
          "model_name": "LayoutModel",
          "model_module_version": "1.2.0",
          "state": {
            "_model_module": "@jupyter-widgets/base",
            "_model_module_version": "1.2.0",
            "_model_name": "LayoutModel",
            "_view_count": null,
            "_view_module": "@jupyter-widgets/base",
            "_view_module_version": "1.2.0",
            "_view_name": "LayoutView",
            "align_content": null,
            "align_items": null,
            "align_self": null,
            "border": null,
            "bottom": null,
            "display": null,
            "flex": null,
            "flex_flow": null,
            "grid_area": null,
            "grid_auto_columns": null,
            "grid_auto_flow": null,
            "grid_auto_rows": null,
            "grid_column": null,
            "grid_gap": null,
            "grid_row": null,
            "grid_template_areas": null,
            "grid_template_columns": null,
            "grid_template_rows": null,
            "height": null,
            "justify_content": null,
            "justify_items": null,
            "left": null,
            "margin": null,
            "max_height": null,
            "max_width": null,
            "min_height": null,
            "min_width": null,
            "object_fit": null,
            "object_position": null,
            "order": null,
            "overflow": null,
            "overflow_x": null,
            "overflow_y": null,
            "padding": null,
            "right": null,
            "top": null,
            "visibility": null,
            "width": null
          }
        },
        "6ca0b9562da44ab08ef15a83d71f0826": {
          "model_module": "@jupyter-widgets/controls",
          "model_name": "ProgressStyleModel",
          "model_module_version": "1.5.0",
          "state": {
            "_model_module": "@jupyter-widgets/controls",
            "_model_module_version": "1.5.0",
            "_model_name": "ProgressStyleModel",
            "_view_count": null,
            "_view_module": "@jupyter-widgets/base",
            "_view_module_version": "1.2.0",
            "_view_name": "StyleView",
            "bar_color": null,
            "description_width": ""
          }
        },
        "497754af75ff4e19aeb573ecf40e72f6": {
          "model_module": "@jupyter-widgets/base",
          "model_name": "LayoutModel",
          "model_module_version": "1.2.0",
          "state": {
            "_model_module": "@jupyter-widgets/base",
            "_model_module_version": "1.2.0",
            "_model_name": "LayoutModel",
            "_view_count": null,
            "_view_module": "@jupyter-widgets/base",
            "_view_module_version": "1.2.0",
            "_view_name": "LayoutView",
            "align_content": null,
            "align_items": null,
            "align_self": null,
            "border": null,
            "bottom": null,
            "display": null,
            "flex": null,
            "flex_flow": null,
            "grid_area": null,
            "grid_auto_columns": null,
            "grid_auto_flow": null,
            "grid_auto_rows": null,
            "grid_column": null,
            "grid_gap": null,
            "grid_row": null,
            "grid_template_areas": null,
            "grid_template_columns": null,
            "grid_template_rows": null,
            "height": null,
            "justify_content": null,
            "justify_items": null,
            "left": null,
            "margin": null,
            "max_height": null,
            "max_width": null,
            "min_height": null,
            "min_width": null,
            "object_fit": null,
            "object_position": null,
            "order": null,
            "overflow": null,
            "overflow_x": null,
            "overflow_y": null,
            "padding": null,
            "right": null,
            "top": null,
            "visibility": null,
            "width": null
          }
        },
        "bd54732dff6b4499b8a315a83ec4befb": {
          "model_module": "@jupyter-widgets/controls",
          "model_name": "DescriptionStyleModel",
          "model_module_version": "1.5.0",
          "state": {
            "_model_module": "@jupyter-widgets/controls",
            "_model_module_version": "1.5.0",
            "_model_name": "DescriptionStyleModel",
            "_view_count": null,
            "_view_module": "@jupyter-widgets/base",
            "_view_module_version": "1.2.0",
            "_view_name": "StyleView",
            "description_width": ""
          }
        },
        "0116875ed21d46079a2523066d876373": {
          "model_module": "@jupyter-widgets/controls",
          "model_name": "HBoxModel",
          "model_module_version": "1.5.0",
          "state": {
            "_dom_classes": [],
            "_model_module": "@jupyter-widgets/controls",
            "_model_module_version": "1.5.0",
            "_model_name": "HBoxModel",
            "_view_count": null,
            "_view_module": "@jupyter-widgets/controls",
            "_view_module_version": "1.5.0",
            "_view_name": "HBoxView",
            "box_style": "",
            "children": [
              "IPY_MODEL_0c9e041bd0784625b385eb9513c02295",
              "IPY_MODEL_b91f85250963415c93670e2e057f755f",
              "IPY_MODEL_a85d70304a7643a6b05a6e7aae336ceb"
            ],
            "layout": "IPY_MODEL_2819702c414d42849de2e5a87cf3d950"
          }
        },
        "0c9e041bd0784625b385eb9513c02295": {
          "model_module": "@jupyter-widgets/controls",
          "model_name": "HTMLModel",
          "model_module_version": "1.5.0",
          "state": {
            "_dom_classes": [],
            "_model_module": "@jupyter-widgets/controls",
            "_model_module_version": "1.5.0",
            "_model_name": "HTMLModel",
            "_view_count": null,
            "_view_module": "@jupyter-widgets/controls",
            "_view_module_version": "1.5.0",
            "_view_name": "HTMLView",
            "description": "",
            "description_tooltip": null,
            "layout": "IPY_MODEL_6f5e681915624c4c969111984f81b328",
            "placeholder": "​",
            "style": "IPY_MODEL_969937e3c7ce42d2b14cc3f0fb27761b",
            "value": "generation_config.json: 100%"
          }
        },
        "b91f85250963415c93670e2e057f755f": {
          "model_module": "@jupyter-widgets/controls",
          "model_name": "FloatProgressModel",
          "model_module_version": "1.5.0",
          "state": {
            "_dom_classes": [],
            "_model_module": "@jupyter-widgets/controls",
            "_model_module_version": "1.5.0",
            "_model_name": "FloatProgressModel",
            "_view_count": null,
            "_view_module": "@jupyter-widgets/controls",
            "_view_module_version": "1.5.0",
            "_view_name": "ProgressView",
            "bar_style": "success",
            "description": "",
            "description_tooltip": null,
            "layout": "IPY_MODEL_ddb3d25ab11c4618922921f442efe016",
            "max": 147,
            "min": 0,
            "orientation": "horizontal",
            "style": "IPY_MODEL_7b970073e34b46f59a0530e9cc989569",
            "value": 147
          }
        },
        "a85d70304a7643a6b05a6e7aae336ceb": {
          "model_module": "@jupyter-widgets/controls",
          "model_name": "HTMLModel",
          "model_module_version": "1.5.0",
          "state": {
            "_dom_classes": [],
            "_model_module": "@jupyter-widgets/controls",
            "_model_module_version": "1.5.0",
            "_model_name": "HTMLModel",
            "_view_count": null,
            "_view_module": "@jupyter-widgets/controls",
            "_view_module_version": "1.5.0",
            "_view_name": "HTMLView",
            "description": "",
            "description_tooltip": null,
            "layout": "IPY_MODEL_980d4149c7ed4b3a87e24e0519b2c4c9",
            "placeholder": "​",
            "style": "IPY_MODEL_4f113995ec494cba951979ba35edc427",
            "value": " 147/147 [00:00&lt;00:00, 8.56kB/s]"
          }
        },
        "2819702c414d42849de2e5a87cf3d950": {
          "model_module": "@jupyter-widgets/base",
          "model_name": "LayoutModel",
          "model_module_version": "1.2.0",
          "state": {
            "_model_module": "@jupyter-widgets/base",
            "_model_module_version": "1.2.0",
            "_model_name": "LayoutModel",
            "_view_count": null,
            "_view_module": "@jupyter-widgets/base",
            "_view_module_version": "1.2.0",
            "_view_name": "LayoutView",
            "align_content": null,
            "align_items": null,
            "align_self": null,
            "border": null,
            "bottom": null,
            "display": null,
            "flex": null,
            "flex_flow": null,
            "grid_area": null,
            "grid_auto_columns": null,
            "grid_auto_flow": null,
            "grid_auto_rows": null,
            "grid_column": null,
            "grid_gap": null,
            "grid_row": null,
            "grid_template_areas": null,
            "grid_template_columns": null,
            "grid_template_rows": null,
            "height": null,
            "justify_content": null,
            "justify_items": null,
            "left": null,
            "margin": null,
            "max_height": null,
            "max_width": null,
            "min_height": null,
            "min_width": null,
            "object_fit": null,
            "object_position": null,
            "order": null,
            "overflow": null,
            "overflow_x": null,
            "overflow_y": null,
            "padding": null,
            "right": null,
            "top": null,
            "visibility": null,
            "width": null
          }
        },
        "6f5e681915624c4c969111984f81b328": {
          "model_module": "@jupyter-widgets/base",
          "model_name": "LayoutModel",
          "model_module_version": "1.2.0",
          "state": {
            "_model_module": "@jupyter-widgets/base",
            "_model_module_version": "1.2.0",
            "_model_name": "LayoutModel",
            "_view_count": null,
            "_view_module": "@jupyter-widgets/base",
            "_view_module_version": "1.2.0",
            "_view_name": "LayoutView",
            "align_content": null,
            "align_items": null,
            "align_self": null,
            "border": null,
            "bottom": null,
            "display": null,
            "flex": null,
            "flex_flow": null,
            "grid_area": null,
            "grid_auto_columns": null,
            "grid_auto_flow": null,
            "grid_auto_rows": null,
            "grid_column": null,
            "grid_gap": null,
            "grid_row": null,
            "grid_template_areas": null,
            "grid_template_columns": null,
            "grid_template_rows": null,
            "height": null,
            "justify_content": null,
            "justify_items": null,
            "left": null,
            "margin": null,
            "max_height": null,
            "max_width": null,
            "min_height": null,
            "min_width": null,
            "object_fit": null,
            "object_position": null,
            "order": null,
            "overflow": null,
            "overflow_x": null,
            "overflow_y": null,
            "padding": null,
            "right": null,
            "top": null,
            "visibility": null,
            "width": null
          }
        },
        "969937e3c7ce42d2b14cc3f0fb27761b": {
          "model_module": "@jupyter-widgets/controls",
          "model_name": "DescriptionStyleModel",
          "model_module_version": "1.5.0",
          "state": {
            "_model_module": "@jupyter-widgets/controls",
            "_model_module_version": "1.5.0",
            "_model_name": "DescriptionStyleModel",
            "_view_count": null,
            "_view_module": "@jupyter-widgets/base",
            "_view_module_version": "1.2.0",
            "_view_name": "StyleView",
            "description_width": ""
          }
        },
        "ddb3d25ab11c4618922921f442efe016": {
          "model_module": "@jupyter-widgets/base",
          "model_name": "LayoutModel",
          "model_module_version": "1.2.0",
          "state": {
            "_model_module": "@jupyter-widgets/base",
            "_model_module_version": "1.2.0",
            "_model_name": "LayoutModel",
            "_view_count": null,
            "_view_module": "@jupyter-widgets/base",
            "_view_module_version": "1.2.0",
            "_view_name": "LayoutView",
            "align_content": null,
            "align_items": null,
            "align_self": null,
            "border": null,
            "bottom": null,
            "display": null,
            "flex": null,
            "flex_flow": null,
            "grid_area": null,
            "grid_auto_columns": null,
            "grid_auto_flow": null,
            "grid_auto_rows": null,
            "grid_column": null,
            "grid_gap": null,
            "grid_row": null,
            "grid_template_areas": null,
            "grid_template_columns": null,
            "grid_template_rows": null,
            "height": null,
            "justify_content": null,
            "justify_items": null,
            "left": null,
            "margin": null,
            "max_height": null,
            "max_width": null,
            "min_height": null,
            "min_width": null,
            "object_fit": null,
            "object_position": null,
            "order": null,
            "overflow": null,
            "overflow_x": null,
            "overflow_y": null,
            "padding": null,
            "right": null,
            "top": null,
            "visibility": null,
            "width": null
          }
        },
        "7b970073e34b46f59a0530e9cc989569": {
          "model_module": "@jupyter-widgets/controls",
          "model_name": "ProgressStyleModel",
          "model_module_version": "1.5.0",
          "state": {
            "_model_module": "@jupyter-widgets/controls",
            "_model_module_version": "1.5.0",
            "_model_name": "ProgressStyleModel",
            "_view_count": null,
            "_view_module": "@jupyter-widgets/base",
            "_view_module_version": "1.2.0",
            "_view_name": "StyleView",
            "bar_color": null,
            "description_width": ""
          }
        },
        "980d4149c7ed4b3a87e24e0519b2c4c9": {
          "model_module": "@jupyter-widgets/base",
          "model_name": "LayoutModel",
          "model_module_version": "1.2.0",
          "state": {
            "_model_module": "@jupyter-widgets/base",
            "_model_module_version": "1.2.0",
            "_model_name": "LayoutModel",
            "_view_count": null,
            "_view_module": "@jupyter-widgets/base",
            "_view_module_version": "1.2.0",
            "_view_name": "LayoutView",
            "align_content": null,
            "align_items": null,
            "align_self": null,
            "border": null,
            "bottom": null,
            "display": null,
            "flex": null,
            "flex_flow": null,
            "grid_area": null,
            "grid_auto_columns": null,
            "grid_auto_flow": null,
            "grid_auto_rows": null,
            "grid_column": null,
            "grid_gap": null,
            "grid_row": null,
            "grid_template_areas": null,
            "grid_template_columns": null,
            "grid_template_rows": null,
            "height": null,
            "justify_content": null,
            "justify_items": null,
            "left": null,
            "margin": null,
            "max_height": null,
            "max_width": null,
            "min_height": null,
            "min_width": null,
            "object_fit": null,
            "object_position": null,
            "order": null,
            "overflow": null,
            "overflow_x": null,
            "overflow_y": null,
            "padding": null,
            "right": null,
            "top": null,
            "visibility": null,
            "width": null
          }
        },
        "4f113995ec494cba951979ba35edc427": {
          "model_module": "@jupyter-widgets/controls",
          "model_name": "DescriptionStyleModel",
          "model_module_version": "1.5.0",
          "state": {
            "_model_module": "@jupyter-widgets/controls",
            "_model_module_version": "1.5.0",
            "_model_name": "DescriptionStyleModel",
            "_view_count": null,
            "_view_module": "@jupyter-widgets/base",
            "_view_module_version": "1.2.0",
            "_view_name": "StyleView",
            "description_width": ""
          }
        },
        "65395a2feaa74b0a87cb71df6cc70465": {
          "model_module": "@jupyter-widgets/controls",
          "model_name": "HBoxModel",
          "model_module_version": "1.5.0",
          "state": {
            "_dom_classes": [],
            "_model_module": "@jupyter-widgets/controls",
            "_model_module_version": "1.5.0",
            "_model_name": "HBoxModel",
            "_view_count": null,
            "_view_module": "@jupyter-widgets/controls",
            "_view_module_version": "1.5.0",
            "_view_name": "HBoxView",
            "box_style": "",
            "children": [
              "IPY_MODEL_ca895d8592724d169fe9d69f38a69edf",
              "IPY_MODEL_8591f079cadd4e71b7b4bfd2bb7640c7",
              "IPY_MODEL_d7f2dfdb0f9f445183ea583ea8ef37c7"
            ],
            "layout": "IPY_MODEL_df1a7a77c8ad4d4dbbf8b7f4e5c27ade"
          }
        },
        "ca895d8592724d169fe9d69f38a69edf": {
          "model_module": "@jupyter-widgets/controls",
          "model_name": "HTMLModel",
          "model_module_version": "1.5.0",
          "state": {
            "_dom_classes": [],
            "_model_module": "@jupyter-widgets/controls",
            "_model_module_version": "1.5.0",
            "_model_name": "HTMLModel",
            "_view_count": null,
            "_view_module": "@jupyter-widgets/controls",
            "_view_module_version": "1.5.0",
            "_view_name": "HTMLView",
            "description": "",
            "description_tooltip": null,
            "layout": "IPY_MODEL_6403205f852443d98927d0f4afe1a0bb",
            "placeholder": "​",
            "style": "IPY_MODEL_3cbfcd3a32004c43b71e551c2faecaec",
            "value": "Epoch 49: 100%"
          }
        },
        "8591f079cadd4e71b7b4bfd2bb7640c7": {
          "model_module": "@jupyter-widgets/controls",
          "model_name": "FloatProgressModel",
          "model_module_version": "1.5.0",
          "state": {
            "_dom_classes": [],
            "_model_module": "@jupyter-widgets/controls",
            "_model_module_version": "1.5.0",
            "_model_name": "FloatProgressModel",
            "_view_count": null,
            "_view_module": "@jupyter-widgets/controls",
            "_view_module_version": "1.5.0",
            "_view_name": "ProgressView",
            "bar_style": "success",
            "description": "",
            "description_tooltip": null,
            "layout": "IPY_MODEL_1b3dda0b325240aba11f2fa28a428336",
            "max": 10,
            "min": 0,
            "orientation": "horizontal",
            "style": "IPY_MODEL_a424bfc9b65843d29b530797b3a5675c",
            "value": 10
          }
        },
        "d7f2dfdb0f9f445183ea583ea8ef37c7": {
          "model_module": "@jupyter-widgets/controls",
          "model_name": "HTMLModel",
          "model_module_version": "1.5.0",
          "state": {
            "_dom_classes": [],
            "_model_module": "@jupyter-widgets/controls",
            "_model_module_version": "1.5.0",
            "_model_name": "HTMLModel",
            "_view_count": null,
            "_view_module": "@jupyter-widgets/controls",
            "_view_module_version": "1.5.0",
            "_view_name": "HTMLView",
            "description": "",
            "description_tooltip": null,
            "layout": "IPY_MODEL_075a1b93fad5484d9c42ab3708b6b753",
            "placeholder": "​",
            "style": "IPY_MODEL_4d5724f2c291462aa477694a5b0861f6",
            "value": " 10/10 [00:04&lt;00:00,  2.02it/s, v_num=0, train_loss=0.560]"
          }
        },
        "df1a7a77c8ad4d4dbbf8b7f4e5c27ade": {
          "model_module": "@jupyter-widgets/base",
          "model_name": "LayoutModel",
          "model_module_version": "1.2.0",
          "state": {
            "_model_module": "@jupyter-widgets/base",
            "_model_module_version": "1.2.0",
            "_model_name": "LayoutModel",
            "_view_count": null,
            "_view_module": "@jupyter-widgets/base",
            "_view_module_version": "1.2.0",
            "_view_name": "LayoutView",
            "align_content": null,
            "align_items": null,
            "align_self": null,
            "border": null,
            "bottom": null,
            "display": "inline-flex",
            "flex": null,
            "flex_flow": "row wrap",
            "grid_area": null,
            "grid_auto_columns": null,
            "grid_auto_flow": null,
            "grid_auto_rows": null,
            "grid_column": null,
            "grid_gap": null,
            "grid_row": null,
            "grid_template_areas": null,
            "grid_template_columns": null,
            "grid_template_rows": null,
            "height": null,
            "justify_content": null,
            "justify_items": null,
            "left": null,
            "margin": null,
            "max_height": null,
            "max_width": null,
            "min_height": null,
            "min_width": null,
            "object_fit": null,
            "object_position": null,
            "order": null,
            "overflow": null,
            "overflow_x": null,
            "overflow_y": null,
            "padding": null,
            "right": null,
            "top": null,
            "visibility": null,
            "width": "100%"
          }
        },
        "6403205f852443d98927d0f4afe1a0bb": {
          "model_module": "@jupyter-widgets/base",
          "model_name": "LayoutModel",
          "model_module_version": "1.2.0",
          "state": {
            "_model_module": "@jupyter-widgets/base",
            "_model_module_version": "1.2.0",
            "_model_name": "LayoutModel",
            "_view_count": null,
            "_view_module": "@jupyter-widgets/base",
            "_view_module_version": "1.2.0",
            "_view_name": "LayoutView",
            "align_content": null,
            "align_items": null,
            "align_self": null,
            "border": null,
            "bottom": null,
            "display": null,
            "flex": null,
            "flex_flow": null,
            "grid_area": null,
            "grid_auto_columns": null,
            "grid_auto_flow": null,
            "grid_auto_rows": null,
            "grid_column": null,
            "grid_gap": null,
            "grid_row": null,
            "grid_template_areas": null,
            "grid_template_columns": null,
            "grid_template_rows": null,
            "height": null,
            "justify_content": null,
            "justify_items": null,
            "left": null,
            "margin": null,
            "max_height": null,
            "max_width": null,
            "min_height": null,
            "min_width": null,
            "object_fit": null,
            "object_position": null,
            "order": null,
            "overflow": null,
            "overflow_x": null,
            "overflow_y": null,
            "padding": null,
            "right": null,
            "top": null,
            "visibility": null,
            "width": null
          }
        },
        "3cbfcd3a32004c43b71e551c2faecaec": {
          "model_module": "@jupyter-widgets/controls",
          "model_name": "DescriptionStyleModel",
          "model_module_version": "1.5.0",
          "state": {
            "_model_module": "@jupyter-widgets/controls",
            "_model_module_version": "1.5.0",
            "_model_name": "DescriptionStyleModel",
            "_view_count": null,
            "_view_module": "@jupyter-widgets/base",
            "_view_module_version": "1.2.0",
            "_view_name": "StyleView",
            "description_width": ""
          }
        },
        "1b3dda0b325240aba11f2fa28a428336": {
          "model_module": "@jupyter-widgets/base",
          "model_name": "LayoutModel",
          "model_module_version": "1.2.0",
          "state": {
            "_model_module": "@jupyter-widgets/base",
            "_model_module_version": "1.2.0",
            "_model_name": "LayoutModel",
            "_view_count": null,
            "_view_module": "@jupyter-widgets/base",
            "_view_module_version": "1.2.0",
            "_view_name": "LayoutView",
            "align_content": null,
            "align_items": null,
            "align_self": null,
            "border": null,
            "bottom": null,
            "display": null,
            "flex": "2",
            "flex_flow": null,
            "grid_area": null,
            "grid_auto_columns": null,
            "grid_auto_flow": null,
            "grid_auto_rows": null,
            "grid_column": null,
            "grid_gap": null,
            "grid_row": null,
            "grid_template_areas": null,
            "grid_template_columns": null,
            "grid_template_rows": null,
            "height": null,
            "justify_content": null,
            "justify_items": null,
            "left": null,
            "margin": null,
            "max_height": null,
            "max_width": null,
            "min_height": null,
            "min_width": null,
            "object_fit": null,
            "object_position": null,
            "order": null,
            "overflow": null,
            "overflow_x": null,
            "overflow_y": null,
            "padding": null,
            "right": null,
            "top": null,
            "visibility": null,
            "width": null
          }
        },
        "a424bfc9b65843d29b530797b3a5675c": {
          "model_module": "@jupyter-widgets/controls",
          "model_name": "ProgressStyleModel",
          "model_module_version": "1.5.0",
          "state": {
            "_model_module": "@jupyter-widgets/controls",
            "_model_module_version": "1.5.0",
            "_model_name": "ProgressStyleModel",
            "_view_count": null,
            "_view_module": "@jupyter-widgets/base",
            "_view_module_version": "1.2.0",
            "_view_name": "StyleView",
            "bar_color": null,
            "description_width": ""
          }
        },
        "075a1b93fad5484d9c42ab3708b6b753": {
          "model_module": "@jupyter-widgets/base",
          "model_name": "LayoutModel",
          "model_module_version": "1.2.0",
          "state": {
            "_model_module": "@jupyter-widgets/base",
            "_model_module_version": "1.2.0",
            "_model_name": "LayoutModel",
            "_view_count": null,
            "_view_module": "@jupyter-widgets/base",
            "_view_module_version": "1.2.0",
            "_view_name": "LayoutView",
            "align_content": null,
            "align_items": null,
            "align_self": null,
            "border": null,
            "bottom": null,
            "display": null,
            "flex": null,
            "flex_flow": null,
            "grid_area": null,
            "grid_auto_columns": null,
            "grid_auto_flow": null,
            "grid_auto_rows": null,
            "grid_column": null,
            "grid_gap": null,
            "grid_row": null,
            "grid_template_areas": null,
            "grid_template_columns": null,
            "grid_template_rows": null,
            "height": null,
            "justify_content": null,
            "justify_items": null,
            "left": null,
            "margin": null,
            "max_height": null,
            "max_width": null,
            "min_height": null,
            "min_width": null,
            "object_fit": null,
            "object_position": null,
            "order": null,
            "overflow": null,
            "overflow_x": null,
            "overflow_y": null,
            "padding": null,
            "right": null,
            "top": null,
            "visibility": null,
            "width": null
          }
        },
        "4d5724f2c291462aa477694a5b0861f6": {
          "model_module": "@jupyter-widgets/controls",
          "model_name": "DescriptionStyleModel",
          "model_module_version": "1.5.0",
          "state": {
            "_model_module": "@jupyter-widgets/controls",
            "_model_module_version": "1.5.0",
            "_model_name": "DescriptionStyleModel",
            "_view_count": null,
            "_view_module": "@jupyter-widgets/base",
            "_view_module_version": "1.2.0",
            "_view_name": "StyleView",
            "description_width": ""
          }
        }
      }
    }
  },
  "nbformat": 4,
  "nbformat_minor": 0
}